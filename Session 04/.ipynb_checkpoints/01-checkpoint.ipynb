{
 "cells": [
  {
   "cell_type": "code",
   "execution_count": 1,
   "id": "9dc1eed9-3d53-460c-ae0e-94be17a1ba26",
   "metadata": {},
   "outputs": [],
   "source": [
    "import numpy as np\n",
    "from sklearn.model_selection import train_test_split\n",
    "from sklearn.datasets import load_diabetes"
   ]
  },
  {
   "cell_type": "code",
   "execution_count": 2,
   "id": "b4301615-e811-4974-b5cb-7c0643eef231",
   "metadata": {},
   "outputs": [
    {
     "name": "stdout",
     "output_type": "stream",
     "text": [
      "dict_keys(['data', 'target', 'frame', 'DESCR', 'feature_names', 'data_filename', 'target_filename', 'data_module'])\n"
     ]
    }
   ],
   "source": [
    "data = load_diabetes()\n",
    "print(data.keys())"
   ]
  },
  {
   "cell_type": "code",
   "execution_count": 3,
   "id": "9edd34bb-852f-43ee-a30a-ed0c17a9132c",
   "metadata": {},
   "outputs": [
    {
     "name": "stdout",
     "output_type": "stream",
     "text": [
      ".. _diabetes_dataset:\n",
      "\n",
      "Diabetes dataset\n",
      "----------------\n",
      "\n",
      "Ten baseline variables, age, sex, body mass index, average blood\n",
      "pressure, and six blood serum measurements were obtained for each of n =\n",
      "442 diabetes patients, as well as the response of interest, a\n",
      "quantitative measure of disease progression one year after baseline.\n",
      "\n",
      "**Data Set Characteristics:**\n",
      "\n",
      "  :Number of Instances: 442\n",
      "\n",
      "  :Number of Attributes: First 10 columns are numeric predictive values\n",
      "\n",
      "  :Target: Column 11 is a quantitative measure of disease progression one year after baseline\n",
      "\n",
      "  :Attribute Information:\n",
      "      - age     age in years\n",
      "      - sex\n",
      "      - bmi     body mass index\n",
      "      - bp      average blood pressure\n",
      "      - s1      tc, total serum cholesterol\n",
      "      - s2      ldl, low-density lipoproteins\n",
      "      - s3      hdl, high-density lipoproteins\n",
      "      - s4      tch, total cholesterol / HDL\n",
      "      - s5      ltg, possibly log of serum triglycerides level\n",
      "      - s6      glu, blood sugar level\n",
      "\n",
      "Note: Each of these 10 feature variables have been mean centered and scaled by the standard deviation times the square root of `n_samples` (i.e. the sum of squares of each column totals 1).\n",
      "\n",
      "Source URL:\n",
      "https://www4.stat.ncsu.edu/~boos/var.select/diabetes.html\n",
      "\n",
      "For more information see:\n",
      "Bradley Efron, Trevor Hastie, Iain Johnstone and Robert Tibshirani (2004) \"Least Angle Regression,\" Annals of Statistics (with discussion), 407-499.\n",
      "(https://web.stanford.edu/~hastie/Papers/LARS/LeastAngle_2002.pdf)\n",
      "\n"
     ]
    }
   ],
   "source": [
    "print(data.DESCR)"
   ]
  },
  {
   "cell_type": "code",
   "execution_count": 4,
   "id": "6252d19f-5c88-4ac7-907c-43987314fafb",
   "metadata": {},
   "outputs": [],
   "source": [
    "X, y = data.data, data.target\n",
    "X_train, X_test, y_train, y_test = train_test_split(X,y, test_size=0.2, random_state=123)"
   ]
  },
  {
   "cell_type": "code",
   "execution_count": 5,
   "id": "bfe56694-2512-49a5-b588-0fc4130e5410",
   "metadata": {},
   "outputs": [],
   "source": [
    "from math import sqrt\n",
    "from collections import Counter"
   ]
  },
  {
   "cell_type": "code",
   "execution_count": 6,
   "id": "bfcb185d-3551-42d1-a530-5848bef75126",
   "metadata": {},
   "outputs": [],
   "source": [
    "from collections import Counter\n",
    "\n",
    "class KNN:\n",
    "    def __init__(self, n_neighbors=3):\n",
    "        self.k = n_neighbors\n",
    "        self.X_train = []\n",
    "        self.y_train = []\n",
    "\n",
    "    def fit(self, X, y):\n",
    "        if len(X) != len(y):\n",
    "            raise ValueError(\n",
    "                f\"X and y must have the same number of samples, got {len(X)} and {len(y)}\"\n",
    "            )\n",
    "        self.X_train = X\n",
    "        self.y_train = y\n",
    "\n",
    "    def _euclidean_distance(self, a, b):\n",
    "        return sum((ai - bi) ** 2 for ai, bi in zip(a, b)) ** 0.5\n",
    "\n",
    "    def pred(self, X):\n",
    "        predictions = []\n",
    "        for x in X:\n",
    "            distances = [\n",
    "                (self._euclidean_distance(x, x_train), y)\n",
    "                for x_train, y in zip(self.X_train, self.y_train)\n",
    "            ]\n",
    "            k_nearest = sorted(distances, key=lambda d: d[0])[:self.k]\n",
    "            labels = [label for _, label in k_nearest]\n",
    "            most_common = Counter(labels).most_common(1)[0][0]\n",
    "            predictions.append(most_common)\n",
    "        return predictions\n",
    "\n",
    "    def score(self, X, y):\n",
    "        y_pred = self.pred(X)\n",
    "        correct = sum(1 for yp, yt in zip(y_pred, y) if yp == yt)\n",
    "        return correct / len(y)"
   ]
  },
  {
   "cell_type": "code",
   "execution_count": 7,
   "id": "6afd41c5-74bc-4d61-b0d8-78cfa09dfc91",
   "metadata": {},
   "outputs": [
    {
     "name": "stdout",
     "output_type": "stream",
     "text": [
      "0.011235955056179775\n"
     ]
    }
   ],
   "source": [
    "model = KNN()\n",
    "model.fit(X_train, y_train)\n",
    "acc = model.score(X_test, y_test)\n",
    "print(acc)"
   ]
  },
  {
   "cell_type": "code",
   "execution_count": 8,
   "id": "533cbf83-fa48-4c2b-810e-f60e466dc0b1",
   "metadata": {},
   "outputs": [],
   "source": [
    "from sklearn.neighbors import KNeighborsClassifier"
   ]
  },
  {
   "cell_type": "code",
   "execution_count": 9,
   "id": "7e5274c8-6eb4-405e-9737-db7e390b51c1",
   "metadata": {},
   "outputs": [
    {
     "name": "stdout",
     "output_type": "stream",
     "text": [
      "0.011235955056179775\n"
     ]
    }
   ],
   "source": [
    "k_model = KNeighborsClassifier(n_neighbors=3)\n",
    "k_model.fit(X_train, y_train)\n",
    "acc = model.score(X_test, y_test)\n",
    "print(acc)"
   ]
  }
 ],
 "metadata": {
  "kernelspec": {
   "display_name": "Python 3 (ipykernel)",
   "language": "python",
   "name": "python3"
  },
  "language_info": {
   "codemirror_mode": {
    "name": "ipython",
    "version": 3
   },
   "file_extension": ".py",
   "mimetype": "text/x-python",
   "name": "python",
   "nbconvert_exporter": "python",
   "pygments_lexer": "ipython3",
   "version": "3.10.11"
  }
 },
 "nbformat": 4,
 "nbformat_minor": 5
}
