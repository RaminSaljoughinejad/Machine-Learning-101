{
 "cells": [
  {
   "cell_type": "code",
   "execution_count": 1,
   "id": "ceabe3d7-707e-4746-adcf-e8381afc0c33",
   "metadata": {},
   "outputs": [],
   "source": [
    "import numpy as np\n",
    "from sklearn.model_selection import train_test_split\n",
    "from sklearn.datasets import load_digits\n",
    "from sklearn.neighbors import KNeighborsClassifier"
   ]
  },
  {
   "cell_type": "code",
   "execution_count": 2,
   "id": "4c1bfb93-0978-4873-ae08-748a2ff7922c",
   "metadata": {},
   "outputs": [],
   "source": [
    "data = load_digits()\n",
    "X, y = data.data, data.target"
   ]
  },
  {
   "cell_type": "code",
   "execution_count": 3,
   "id": "397607ca-c404-435e-801d-3caf425c57ce",
   "metadata": {},
   "outputs": [
    {
     "name": "stdout",
     "output_type": "stream",
     "text": [
      "Min: 0.9611111111111111\n",
      "Max: 1.0\n",
      "Difference: 3.888888888888886\n"
     ]
    }
   ],
   "source": [
    "res = []\n",
    "for i in range(100):\n",
    "    X_train, X_test, y_train, y_test = train_test_split(X,y, test_size=0.1)\n",
    "    model = KNeighborsClassifier(n_neighbors=3)\n",
    "    model.fit(X_train, y_train)\n",
    "    acc = model.score(X_test, y_test)\n",
    "    res.append(acc)\n",
    "print(\"Min:\",min(res))\n",
    "print(\"Max:\",max(res))\n",
    "print(\"Difference:\",(max(res)-min(res))*100)"
   ]
  },
  {
   "cell_type": "code",
   "execution_count": 4,
   "id": "b19b1258-7421-4047-99bf-713bf28cc35f",
   "metadata": {},
   "outputs": [],
   "source": [
    "from sklearn.datasets import load_breast_cancer"
   ]
  },
  {
   "cell_type": "code",
   "execution_count": 5,
   "id": "0392f9c4-5e79-490e-9dda-ab1b556ec38c",
   "metadata": {},
   "outputs": [],
   "source": [
    "data = load_breast_cancer()\n",
    "X, y = data.data, data.target"
   ]
  },
  {
   "cell_type": "code",
   "execution_count": 6,
   "id": "0ca487f2-a281-4b26-9020-ffbe209ccfcb",
   "metadata": {},
   "outputs": [
    {
     "name": "stdout",
     "output_type": "stream",
     "text": [
      "Min: 0.8421052631578947\n",
      "Max: 1.0\n",
      "Difference: 15.789473684210531\n"
     ]
    }
   ],
   "source": [
    "res = []\n",
    "for i in range(100):\n",
    "    X_train, X_test, y_train, y_test = train_test_split(X,y, test_size=0.1)\n",
    "    model = KNeighborsClassifier(n_neighbors=3)\n",
    "    model.fit(X_train, y_train)\n",
    "    acc = model.score(X_test, y_test)\n",
    "    res.append(acc)\n",
    "print(\"Min:\",min(res))\n",
    "print(\"Max:\",max(res))\n",
    "print(\"Difference:\",(max(res)-min(res))*100)"
   ]
  },
  {
   "cell_type": "code",
   "execution_count": 7,
   "id": "627d8453-d717-4c0c-9774-008e744b19e8",
   "metadata": {},
   "outputs": [],
   "source": [
    "from sklearn.model_selection import cross_val_score, KFold"
   ]
  },
  {
   "cell_type": "code",
   "execution_count": 8,
   "id": "7cbaeb5f-3ed4-4c2c-9324-f11979dfbb65",
   "metadata": {},
   "outputs": [
    {
     "name": "stdout",
     "output_type": "stream",
     "text": [
      "Mean Accuracy: 0.9226817042606517\n",
      "Std Dev: 0.05095198645748805\n",
      "Min: 0.7894736842105263\n",
      "Max: 0.9649122807017544\n",
      "Difference: 17.543859649122805\n"
     ]
    }
   ],
   "source": [
    "data = load_breast_cancer()\n",
    "X, y = data.data, data.target\n",
    "\n",
    "model = KNeighborsClassifier(n_neighbors=3)\n",
    "\n",
    "kf = KFold(n_splits=10)\n",
    "\n",
    "scores = cross_val_score(model, X, y, cv=kf)\n",
    "\n",
    "print(\"Mean Accuracy:\", scores.mean())\n",
    "print(\"Std Dev:\", scores.std())\n",
    "print(\"Min:\", scores.min())\n",
    "print(\"Max:\", scores.max())\n",
    "print(\"Difference:\", (scores.max()-scores.min())*100)"
   ]
  },
  {
   "cell_type": "code",
   "execution_count": 9,
   "id": "ea136669-a8a6-423e-b26f-8da47d237abe",
   "metadata": {},
   "outputs": [],
   "source": [
    "from sklearn.model_selection import cross_val_score, StratifiedKFold"
   ]
  },
  {
   "cell_type": "code",
   "execution_count": 10,
   "id": "3bf0782f-296c-4c60-9ef7-f592394cf9f9",
   "metadata": {
    "scrolled": true
   },
   "outputs": [
    {
     "name": "stdout",
     "output_type": "stream",
     "text": [
      "Mean Accuracy: 0.9261904761904761\n",
      "Std Dev: 0.03017136876275684\n",
      "Min: 0.8596491228070176\n",
      "Max: 0.9649122807017544\n",
      "Difference: 10.526315789473683\n"
     ]
    }
   ],
   "source": [
    "data = load_breast_cancer()\n",
    "X, y = data.data, data.target\n",
    "\n",
    "model = KNeighborsClassifier(n_neighbors=3)\n",
    "\n",
    "skf = StratifiedKFold(n_splits=10)\n",
    "\n",
    "scores = cross_val_score(model, X, y, cv=skf)\n",
    "\n",
    "print(\"Mean Accuracy:\", scores.mean())\n",
    "print(\"Std Dev:\", scores.std())\n",
    "print(\"Min:\", scores.min())\n",
    "print(\"Max:\", scores.max())\n",
    "print(\"Difference:\", (scores.max()-scores.min())*100)"
   ]
  },
  {
   "cell_type": "code",
   "execution_count": 14,
   "id": "d5bd3597-ef70-486f-8d1d-a6ff2b76d674",
   "metadata": {},
   "outputs": [],
   "source": [
    "from sklearn.model_selection import cross_validate\n",
    "from sklearn.metrics import make_scorer, precision_score, recall_score, f1_score"
   ]
  },
  {
   "cell_type": "code",
   "execution_count": 15,
   "id": "004d72a6-0663-44ec-9748-27f659219063",
   "metadata": {},
   "outputs": [
    {
     "name": "stdout",
     "output_type": "stream",
     "text": [
      "Accuracy per fold: [0.9122807  0.85964912 0.89473684 0.94736842 0.94736842 0.94736842\n",
      " 0.96491228 0.94736842 0.9122807  0.92857143]\n",
      "Mean accuracy: 0.9262, Std: 0.0302\n",
      "\n",
      "Precision per fold: [0.89473684 0.82926829 0.91666667 0.94594595 0.94594595 0.94594595\n",
      " 0.94736842 0.94594595 0.96969697 0.94285714]\n",
      "Mean precision: 0.9284, Std: 0.0382\n",
      "\n",
      "Recall per fold: [0.97142857 0.97142857 0.91666667 0.97222222 0.97222222 0.97222222\n",
      " 1.         0.97222222 0.88888889 0.94285714]\n",
      "Mean recall: 0.9580, Std: 0.0311\n",
      "\n",
      "F1 per fold: [0.93150685 0.89473684 0.91666667 0.95890411 0.95890411 0.95890411\n",
      " 0.97297297 0.95890411 0.92753623 0.94285714]\n",
      "Mean f1: 0.9422, Std: 0.0230\n",
      "\n"
     ]
    }
   ],
   "source": [
    "data = load_breast_cancer()\n",
    "X, y = data.data, data.target\n",
    "\n",
    "model = KNeighborsClassifier(n_neighbors=3)\n",
    "\n",
    "skf = StratifiedKFold(n_splits=10)\n",
    "\n",
    "scoring = ['accuracy', 'precision', 'recall', 'f1']\n",
    "\n",
    "cv_results = cross_validate(model, X, y, cv=skf, scoring=scoring, return_train_score=False)\n",
    "\n",
    "for metric in scoring:\n",
    "    scores = cv_results[f'test_{metric}']\n",
    "    print(f\"{metric.capitalize()} per fold:\", scores)\n",
    "    print(f\"Mean {metric}: {scores.mean():.4f}, Std: {scores.std():.4f}\\n\")"
   ]
  },
  {
   "cell_type": "code",
   "execution_count": null,
   "id": "7f9e22fc-5817-40a3-8c69-c2dbccf2b4e7",
   "metadata": {},
   "outputs": [],
   "source": []
  }
 ],
 "metadata": {
  "kernelspec": {
   "display_name": "Python 3 (ipykernel)",
   "language": "python",
   "name": "python3"
  },
  "language_info": {
   "codemirror_mode": {
    "name": "ipython",
    "version": 3
   },
   "file_extension": ".py",
   "mimetype": "text/x-python",
   "name": "python",
   "nbconvert_exporter": "python",
   "pygments_lexer": "ipython3",
   "version": "3.10.11"
  }
 },
 "nbformat": 4,
 "nbformat_minor": 5
}
