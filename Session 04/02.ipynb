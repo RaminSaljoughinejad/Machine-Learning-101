{
 "cells": [
  {
   "cell_type": "code",
   "execution_count": 1,
   "id": "cfd895eb-6386-468a-99b4-d9ba4b68b957",
   "metadata": {},
   "outputs": [],
   "source": [
    "import numpy as np\n",
    "from sklearn.model_selection import train_test_split\n",
    "from sklearn.datasets import load_breast_cancer\n",
    "from sklearn.svm import SVC\n",
    "from sklearn.neighbors import KNeighborsClassifier\n",
    "from sklearn.preprocessing import RobustScaler\n",
    "import matplotlib.pyplot as plt\n",
    "from random import randint as rnd"
   ]
  },
  {
   "cell_type": "code",
   "execution_count": 2,
   "id": "896cb34a-84f5-401d-9309-3bc18d8f64b0",
   "metadata": {},
   "outputs": [
    {
     "name": "stdout",
     "output_type": "stream",
     "text": [
      "dict_keys(['data', 'target', 'frame', 'target_names', 'DESCR', 'feature_names', 'filename', 'data_module'])\n"
     ]
    }
   ],
   "source": [
    "data = load_breast_cancer()\n",
    "print(data.keys())"
   ]
  },
  {
   "cell_type": "code",
   "execution_count": 3,
   "id": "47ff47ae-179c-4b0d-ac18-64d3a5822d2e",
   "metadata": {},
   "outputs": [],
   "source": [
    "data = load_breast_cancer()\n",
    "X, y = data.data, data.target\n",
    "scaler = RobustScaler()\n",
    "for i in range(X.shape[1]):\n",
    "    X[:,i] = scaler.fit_transform(X[:,i].reshape(-1,1)).reshape(-1)\n",
    "X_train, X_test, y_train, y_test = train_test_split(X,y, test_size=0.2, random_state=123)"
   ]
  },
  {
   "cell_type": "code",
   "execution_count": 5,
   "id": "b95eb5a5-cac2-4423-ba80-598629276022",
   "metadata": {},
   "outputs": [],
   "source": [
    "import pandas as pd\n",
    "from pandasgui import show"
   ]
  },
  {
   "cell_type": "code",
   "execution_count": 8,
   "id": "f81684ac-620c-4740-9285-61707e23b502",
   "metadata": {},
   "outputs": [],
   "source": [
    "df = pd.DataFrame(X, columns=data.feature_names)\n",
    "df['class']=y"
   ]
  },
  {
   "cell_type": "code",
   "execution_count": 9,
   "id": "88e59636-1f8e-4592-8842-2c0b908b9a88",
   "metadata": {},
   "outputs": [
    {
     "name": "stderr",
     "output_type": "stream",
     "text": [
      "PandasGUI INFO — pandasgui.gui — Opening PandasGUI\n",
      "C:\\Users\\R-Saljoughi\\AppData\\Local\\Temp\\ipykernel_10196\\1525291607.py:1: FutureWarning: Series.__getitem__ treating keys as positions is deprecated. In a future version, integer keys will always be treated as labels (consistent with DataFrame behavior). To access a value by position, use `ser.iloc[pos]`\n",
      "  show(df)\n",
      "C:\\Users\\R-Saljoughi\\AppData\\Local\\Temp\\ipykernel_10196\\1525291607.py:1: FutureWarning: Series.__getitem__ treating keys as positions is deprecated. In a future version, integer keys will always be treated as labels (consistent with DataFrame behavior). To access a value by position, use `ser.iloc[pos]`\n",
      "  show(df)\n",
      "C:\\Users\\R-Saljoughi\\AppData\\Local\\Temp\\ipykernel_10196\\1525291607.py:1: FutureWarning:\n",
      "\n",
      "Series.__getitem__ treating keys as positions is deprecated. In a future version, integer keys will always be treated as labels (consistent with DataFrame behavior). To access a value by position, use `ser.iloc[pos]`\n",
      "\n",
      "C:\\Users\\R-Saljoughi\\AppData\\Local\\Temp\\ipykernel_10196\\1525291607.py:1: FutureWarning:\n",
      "\n",
      "Series.__getitem__ treating keys as positions is deprecated. In a future version, integer keys will always be treated as labels (consistent with DataFrame behavior). To access a value by position, use `ser.iloc[pos]`\n",
      "\n",
      "C:\\Users\\R-Saljoughi\\AppData\\Local\\Temp\\ipykernel_10196\\1525291607.py:1: FutureWarning:\n",
      "\n",
      "Series.__getitem__ treating keys as positions is deprecated. In a future version, integer keys will always be treated as labels (consistent with DataFrame behavior). To access a value by position, use `ser.iloc[pos]`\n",
      "\n",
      "C:\\Users\\R-Saljoughi\\AppData\\Local\\Temp\\ipykernel_10196\\1525291607.py:1: FutureWarning:\n",
      "\n",
      "Series.__getitem__ treating keys as positions is deprecated. In a future version, integer keys will always be treated as labels (consistent with DataFrame behavior). To access a value by position, use `ser.iloc[pos]`\n",
      "\n"
     ]
    },
    {
     "data": {
      "text/plain": [
       "<pandasgui.gui.PandasGui at 0x18ebc3dfd00>"
      ]
     },
     "execution_count": 9,
     "metadata": {},
     "output_type": "execute_result"
    }
   ],
   "source": [
    "show(df)"
   ]
  },
  {
   "cell_type": "code",
   "execution_count": null,
   "id": "59c70c06-e413-4a64-a116-ee4ec75de7ff",
   "metadata": {},
   "outputs": [],
   "source": [
    "model1 = SVC(kernel='linear')\n",
    "model1.fit(X_train, y_train)\n",
    "acc = model1.score(X_test, y_test)\n",
    "print(acc)"
   ]
  },
  {
   "cell_type": "code",
   "execution_count": null,
   "id": "54b3acee-d30f-49e9-a095-0733c8bae9ff",
   "metadata": {},
   "outputs": [],
   "source": [
    "model2 = KNeighborsClassifier(n_neighbors=3)\n",
    "model2.fit(X_train, y_train)\n",
    "acc = model2.score(X_test, y_test)\n",
    "print(acc)"
   ]
  },
  {
   "cell_type": "code",
   "execution_count": null,
   "id": "9a1d5f1f-4047-41c8-9a54-d45bc9043e5b",
   "metadata": {},
   "outputs": [],
   "source": [
    "model3 = SVC(kernel='rbf')\n",
    "model3.fit(X_train, y_train)\n",
    "acc = model3.score(X_test, y_test)\n",
    "print(acc)"
   ]
  },
  {
   "cell_type": "code",
   "execution_count": null,
   "id": "f00ddbec-10d7-428c-ab57-498266765720",
   "metadata": {},
   "outputs": [],
   "source": [
    "model4 = SVC(kernel='sigmoid')\n",
    "model4.fit(X_train, y_train)\n",
    "acc = model4.score(X_test, y_test)\n",
    "print(acc)"
   ]
  },
  {
   "cell_type": "code",
   "execution_count": null,
   "id": "df29e0f8-e6ac-4129-8247-63e1ba99e268",
   "metadata": {},
   "outputs": [],
   "source": [
    "model5 = SVC(kernel='poly')\n",
    "model5.fit(X_train, y_train)\n",
    "acc = model5.score(X_test, y_test)\n",
    "print(acc)"
   ]
  },
  {
   "cell_type": "code",
   "execution_count": null,
   "id": "5688cdfa-6578-44cc-af23-93975e6e72df",
   "metadata": {},
   "outputs": [],
   "source": []
  },
  {
   "cell_type": "code",
   "execution_count": null,
   "id": "bc5791d3-6056-44ea-bac0-f39831a69add",
   "metadata": {},
   "outputs": [],
   "source": []
  }
 ],
 "metadata": {
  "kernelspec": {
   "display_name": "Python 3 (ipykernel)",
   "language": "python",
   "name": "python3"
  },
  "language_info": {
   "codemirror_mode": {
    "name": "ipython",
    "version": 3
   },
   "file_extension": ".py",
   "mimetype": "text/x-python",
   "name": "python",
   "nbconvert_exporter": "python",
   "pygments_lexer": "ipython3",
   "version": "3.10.11"
  }
 },
 "nbformat": 4,
 "nbformat_minor": 5
}
