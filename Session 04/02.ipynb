{
 "cells": [
  {
   "cell_type": "code",
   "execution_count": 1,
   "id": "ceabe3d7-707e-4746-adcf-e8381afc0c33",
   "metadata": {},
   "outputs": [],
   "source": [
    "import numpy as np\n",
    "from sklearn.model_selection import train_test_split\n",
    "from sklearn.datasets import load_digits\n",
    "from sklearn.neighbors import KNeighborsClassifier"
   ]
  },
  {
   "cell_type": "code",
   "execution_count": 2,
   "id": "4c1bfb93-0978-4873-ae08-748a2ff7922c",
   "metadata": {},
   "outputs": [],
   "source": [
    "data = load_digits()\n",
    "X, y = data.data, data.target"
   ]
  },
  {
   "cell_type": "code",
   "execution_count": 3,
   "id": "397607ca-c404-435e-801d-3caf425c57ce",
   "metadata": {},
   "outputs": [
    {
     "name": "stdout",
     "output_type": "stream",
     "text": [
      "Min: 0.9611111111111111\n",
      "Max: 1.0\n",
      "Difference: 3.888888888888886\n"
     ]
    }
   ],
   "source": [
    "res = []\n",
    "for i in range(100):\n",
    "    X_train, X_test, y_train, y_test = train_test_split(X,y, test_size=0.1)\n",
    "    model = KNeighborsClassifier(n_neighbors=3)\n",
    "    model.fit(X_train, y_train)\n",
    "    acc = model.score(X_test, y_test)\n",
    "    res.append(acc)\n",
    "print(\"Min:\",min(res))\n",
    "print(\"Max:\",max(res))\n",
    "print(\"Difference:\",(max(res)-min(res))*100)"
   ]
  },
  {
   "cell_type": "code",
   "execution_count": 4,
   "id": "b19b1258-7421-4047-99bf-713bf28cc35f",
   "metadata": {},
   "outputs": [],
   "source": [
    "from sklearn.datasets import load_breast_cancer"
   ]
  },
  {
   "cell_type": "code",
   "execution_count": 5,
   "id": "0392f9c4-5e79-490e-9dda-ab1b556ec38c",
   "metadata": {},
   "outputs": [],
   "source": [
    "data = load_breast_cancer()\n",
    "X, y = data.data, data.target"
   ]
  },
  {
   "cell_type": "code",
   "execution_count": 6,
   "id": "0ca487f2-a281-4b26-9020-ffbe209ccfcb",
   "metadata": {},
   "outputs": [
    {
     "name": "stdout",
     "output_type": "stream",
     "text": [
      "Min: 0.8421052631578947\n",
      "Max: 1.0\n",
      "Difference: 15.789473684210531\n"
     ]
    }
   ],
   "source": [
    "res = []\n",
    "for i in range(100):\n",
    "    X_train, X_test, y_train, y_test = train_test_split(X,y, test_size=0.1)\n",
    "    model = KNeighborsClassifier(n_neighbors=3)\n",
    "    model.fit(X_train, y_train)\n",
    "    acc = model.score(X_test, y_test)\n",
    "    res.append(acc)\n",
    "print(\"Min:\",min(res))\n",
    "print(\"Max:\",max(res))\n",
    "print(\"Difference:\",(max(res)-min(res))*100)"
   ]
  },
  {
   "cell_type": "code",
   "execution_count": 7,
   "id": "627d8453-d717-4c0c-9774-008e744b19e8",
   "metadata": {},
   "outputs": [],
   "source": [
    "from sklearn.model_selection import cross_val_score, KFold"
   ]
  },
  {
   "cell_type": "code",
   "execution_count": 8,
   "id": "7cbaeb5f-3ed4-4c2c-9324-f11979dfbb65",
   "metadata": {},
   "outputs": [
    {
     "name": "stdout",
     "output_type": "stream",
     "text": [
      "Mean Accuracy: 0.9226817042606517\n",
      "Std Dev: 0.05095198645748805\n",
      "Min: 0.7894736842105263\n",
      "Max: 0.9649122807017544\n",
      "Difference: 17.543859649122805\n"
     ]
    }
   ],
   "source": [
    "data = load_breast_cancer()\n",
    "X, y = data.data, data.target\n",
    "\n",
    "model = KNeighborsClassifier(n_neighbors=3)\n",
    "\n",
    "kf = KFold(n_splits=10)\n",
    "\n",
    "scores = cross_val_score(model, X, y, cv=kf)\n",
    "\n",
    "print(\"Mean Accuracy:\", scores.mean())\n",
    "print(\"Std Dev:\", scores.std())\n",
    "print(\"Min:\", scores.min())\n",
    "print(\"Max:\", scores.max())\n",
    "print(\"Difference:\", (scores.max()-scores.min())*100)"
   ]
  },
  {
   "cell_type": "code",
   "execution_count": 9,
   "id": "ea136669-a8a6-423e-b26f-8da47d237abe",
   "metadata": {},
   "outputs": [],
   "source": [
    "from sklearn.model_selection import cross_val_score, StratifiedKFold"
   ]
  },
  {
   "cell_type": "code",
   "execution_count": 10,
   "id": "3bf0782f-296c-4c60-9ef7-f592394cf9f9",
   "metadata": {},
   "outputs": [
    {
     "name": "stdout",
     "output_type": "stream",
     "text": [
      "Mean Accuracy: 0.9261904761904761\n",
      "Std Dev: 0.03017136876275684\n",
      "Min: 0.8596491228070176\n",
      "Max: 0.9649122807017544\n",
      "Difference: 10.526315789473683\n"
     ]
    }
   ],
   "source": [
    "data = load_breast_cancer()\n",
    "X, y = data.data, data.target\n",
    "\n",
    "model = KNeighborsClassifier(n_neighbors=3)\n",
    "\n",
    "skf = StratifiedKFold(n_splits=10)\n",
    "\n",
    "scores = cross_val_score(model, X, y, cv=skf)\n",
    "\n",
    "print(\"Mean Accuracy:\", scores.mean())\n",
    "print(\"Std Dev:\", scores.std())\n",
    "print(\"Min:\", scores.min())\n",
    "print(\"Max:\", scores.max())\n",
    "print(\"Difference:\", (scores.max()-scores.min())*100)"
   ]
  },
  {
   "cell_type": "code",
   "execution_count": null,
   "id": "004d72a6-0663-44ec-9748-27f659219063",
   "metadata": {},
   "outputs": [],
   "source": []
  }
 ],
 "metadata": {
  "kernelspec": {
   "display_name": "Python 3 (ipykernel)",
   "language": "python",
   "name": "python3"
  },
  "language_info": {
   "codemirror_mode": {
    "name": "ipython",
    "version": 3
   },
   "file_extension": ".py",
   "mimetype": "text/x-python",
   "name": "python",
   "nbconvert_exporter": "python",
   "pygments_lexer": "ipython3",
   "version": "3.10.11"
  }
 },
 "nbformat": 4,
 "nbformat_minor": 5
}
