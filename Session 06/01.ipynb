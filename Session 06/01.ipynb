{
 "cells": [
  {
   "cell_type": "code",
   "execution_count": 1,
   "id": "1d1b9c8f-7f80-4e31-89d6-f29a9dc4f5ad",
   "metadata": {},
   "outputs": [],
   "source": [
    "from sklearn.datasets import make_classification\n",
    "import pandas as pd\n",
    "import numpy as np"
   ]
  },
  {
   "cell_type": "code",
   "execution_count": 22,
   "id": "85b5e008-29e7-42ab-b6f2-12d75fef3416",
   "metadata": {},
   "outputs": [
    {
     "name": "stdout",
     "output_type": "stream",
     "text": [
      "target\n",
      "0    9700\n",
      "1     300\n",
      "Name: count, dtype: int64\n"
     ]
    }
   ],
   "source": [
    "n_samples = 10000          # total number of samples to generate\n",
    "n_features = 12            # total number of features (columns)\n",
    "n_informative = 6          # number of informative features (useful for class separation)\n",
    "n_redundant = 2            # number of redundant (linear combinations of informative)\n",
    "n_repeated = 0             # number of duplicated features (rarely needed)\n",
    "n_classes = 2              # number of distinct classes (binary classification)\n",
    "weights = [0.90, 0.10]     # class distribution: 90% class 0 (majority), 10% class 1 (minority)\n",
    "flip_y = 0.01              # fraction of labels to randomly flip (introduces label noise)\n",
    "class_sep = 1.0            # controls separability between classes (higher -> easier)\n",
    "random_state = 42          # seed to make generation deterministic / reproducible\n",
    "\n",
    "# Generate synthetic imbalanced dataset\n",
    "X, y = make_classification(\n",
    "    n_samples=n_samples,\n",
    "    n_features=n_features,\n",
    "    n_informative=5,\n",
    "    n_redundant=2,\n",
    "    n_clusters_per_class=1,\n",
    "    weights=weights,\n",
    "    flip_y=0,\n",
    "    random_state=42\n",
    ")\n",
    "\n",
    "# Convert to pandas DataFrame for convenience\n",
    "df = pd.DataFrame(X, columns=[f'feature_{i}' for i in range(n_features)])\n",
    "df['target'] = y\n",
    "\n",
    "print(df['target'].value_counts())\n",
    "# print(df['target'].value_counts(normalize=True))\n",
    "# df.head()"
   ]
  },
  {
   "cell_type": "code",
   "execution_count": 33,
   "id": "633344fe-b2f7-43de-8fa3-69f16fb72342",
   "metadata": {},
   "outputs": [],
   "source": [
    "import matplotlib.pyplot as plt"
   ]
  },
  {
   "cell_type": "code",
   "execution_count": 34,
   "id": "91d4b87d-3e9b-46de-a9e8-30612104cecd",
   "metadata": {},
   "outputs": [
    {
     "data": {
      "image/png": "[encoded data removed]",
      "text/plain": [
       "<Figure size 640x480 with 1 Axes>"
      ]
     },
     "metadata": {},
     "output_type": "display_data"
    }
   ],
   "source": [
    "plt.barh(0, df['target'].value_counts()[0], label='minority class')\n",
    "plt.barh(1, df['target'].value_counts()[1], label='majority class')\n",
    "plt.legend()\n",
    "plt.show()"
   ]
  },
  {
   "cell_type": "code",
   "execution_count": 31,
   "id": "c72eafcf-adb8-4af5-a5ea-985b9c717469",
   "metadata": {},
   "outputs": [],
   "source": [
    "from sklearn.model_selection import train_test_split"
   ]
  },
  {
   "cell_type": "code",
   "execution_count": 39,
   "id": "0b15560f-190e-4dc4-9ea8-04f2ab73ab05",
   "metadata": {},
   "outputs": [
    {
     "name": "stdout",
     "output_type": "stream",
     "text": [
      "0    7760\n",
      "1     240\n",
      "Name: count, dtype: int64\n"
     ]
    }
   ],
   "source": [
    "X_train, X_test, y_train, y_test = train_test_split(\n",
    "    X, y,\n",
    "    test_size=0.2,\n",
    "    stratify=y,\n",
    "    random_state=42\n",
    ")\n",
    "print(pd.Series(y_train).value_counts())"
   ]
  },
  {
   "cell_type": "code",
   "execution_count": 23,
   "id": "6696f622-57e5-4da8-b244-917945d71dd8",
   "metadata": {},
   "outputs": [],
   "source": [
    "from imblearn.under_sampling import RandomUnderSampler"
   ]
  },
  {
   "cell_type": "code",
   "execution_count": 44,
   "id": "916da4cc-4ad6-4ee1-af53-5cb44cc809be",
   "metadata": {},
   "outputs": [
    {
     "name": "stdout",
     "output_type": "stream",
     "text": [
      "target\n",
      "0    240\n",
      "1    240\n",
      "Name: count, dtype: int64\n"
     ]
    }
   ],
   "source": [
    "rus = RandomUnderSampler()\n",
    "rus_X_train, rus_y_train = rus.fit_resample(X_train, y_train)\n",
    "under_df = pd.DataFrame(rus_X_train, columns=[f'feature_{i}' for i in range(n_features)])\n",
    "under_df['target'] = rus_y_train\n",
    "\n",
    "print(under_df['target'].value_counts())"
   ]
  },
  {
   "cell_type": "code",
   "execution_count": 41,
   "id": "9e1b414e-e3fc-4b83-8718-621c6665aa51",
   "metadata": {},
   "outputs": [],
   "source": [
    "from imblearn.over_sampling import RandomOverSampler"
   ]
  },
  {
   "cell_type": "code",
   "execution_count": 45,
   "id": "86096723-6342-487d-abf0-c77b2e2abad2",
   "metadata": {},
   "outputs": [
    {
     "name": "stdout",
     "output_type": "stream",
     "text": [
      "target\n",
      "0    7760\n",
      "1    7760\n",
      "Name: count, dtype: int64\n"
     ]
    }
   ],
   "source": [
    "ros = RandomOverSampler()\n",
    "ros_X_train, ros_y_train = ros.fit_resample(X_train, y_train)\n",
    "over_df = pd.DataFrame(ros_X_train, columns=[f'feature_{i}' for i in range(n_features)])\n",
    "over_df['target'] = ros_y_train\n",
    "\n",
    "print(over_df['target'].value_counts())"
   ]
  },
  {
   "cell_type": "code",
   "execution_count": 43,
   "id": "72dac0e7-030d-4ecf-a3d7-5eb12919dae2",
   "metadata": {},
   "outputs": [],
   "source": [
    "from imblearn.over_sampling import SMOTE"
   ]
  },
  {
   "cell_type": "code",
   "execution_count": 46,
   "id": "9a014b5e-ec7e-4102-bc7d-bc15414c57d4",
   "metadata": {},
   "outputs": [
    {
     "name": "stdout",
     "output_type": "stream",
     "text": [
      "target\n",
      "0    7760\n",
      "1    7760\n",
      "Name: count, dtype: int64\n"
     ]
    }
   ],
   "source": [
    "smote = SMOTE(random_state=42)\n",
    "smote_X_train, smote_y_train = smote.fit_resample(X_train, y_train)\n",
    "smote_df = pd.DataFrame(smote_X_train, columns=[f'feature_{i}' for i in range(n_features)])\n",
    "smote_df['target'] = smote_y_train\n",
    "\n",
    "print(smote_df['target'].value_counts())"
   ]
  },
  {
   "cell_type": "code",
   "execution_count": 47,
   "id": "64220752-215c-4d74-80c5-d317a8a54161",
   "metadata": {},
   "outputs": [],
   "source": [
    "from imblearn.over_sampling import BorderlineSMOTE"
   ]
  },
  {
   "cell_type": "code",
   "execution_count": 53,
   "id": "b828e5b9-52f9-4c8d-9700-d8fc917db49f",
   "metadata": {},
   "outputs": [
    {
     "name": "stdout",
     "output_type": "stream",
     "text": [
      "target\n",
      "0    7760\n",
      "1    7760\n",
      "Name: count, dtype: int64\n"
     ]
    }
   ],
   "source": [
    "borderline_smote = BorderlineSMOTE(\n",
    "    kind='borderline-1',   # or 'borderline-2'\n",
    "    random_state=42\n",
    ")\n",
    "border1_smote_X_train, border1_smote_y_train = borderline_smote.fit_resample(X_train, y_train)\n",
    "\n",
    "border1_smote_df = pd.DataFrame(border1_smote_X_train, columns=[f'feature_{i}' for i in range(n_features)])\n",
    "border1_smote_df['target'] = border1_smote_y_train\n",
    "\n",
    "print(border1_smote_df['target'].value_counts())"
   ]
  },
  {
   "cell_type": "code",
   "execution_count": 52,
   "id": "0d3ccc28-8b1c-4f05-bead-7b1ff1ae3caf",
   "metadata": {},
   "outputs": [
    {
     "name": "stdout",
     "output_type": "stream",
     "text": [
      "target\n",
      "0    7760\n",
      "1    7760\n",
      "Name: count, dtype: int64\n"
     ]
    }
   ],
   "source": [
    "borderline_smote = BorderlineSMOTE(\n",
    "    kind='borderline-2',   # or 'borderline-2'\n",
    "    random_state=42\n",
    ")\n",
    "border2_smote_X_train, border2_smote_y_train = borderline_smote.fit_resample(X_train, y_train)\n",
    "\n",
    "border2_smote_df = pd.DataFrame(border2_smote_X_train, columns=[f'feature_{i}' for i in range(n_features)])\n",
    "border2_smote_df['target'] = border2_smote_y_train\n",
    "\n",
    "print(border2_smote_df['target'].value_counts())"
   ]
  },
  {
   "cell_type": "code",
   "execution_count": 50,
   "id": "403e7b01-969a-450d-8dca-248d247199ec",
   "metadata": {},
   "outputs": [],
   "source": [
    "from imblearn.over_sampling import ADASYN"
   ]
  },
  {
   "cell_type": "code",
   "execution_count": 54,
   "id": "afb317d1-b0e6-4fed-a597-c1e29652d8e9",
   "metadata": {},
   "outputs": [
    {
     "name": "stdout",
     "output_type": "stream",
     "text": [
      "target\n",
      "0    7760\n",
      "1    7752\n",
      "Name: count, dtype: int64\n"
     ]
    }
   ],
   "source": [
    "adasyn = ADASYN(\n",
    "    n_neighbors=5,\n",
    "    random_state=42\n",
    ")\n",
    "adasyn_X_train, adasyn_y_train = adasyn.fit_resample(X_train, y_train)\n",
    "\n",
    "adasyn_df = pd.DataFrame(adasyn_X_train, columns=[f'feature_{i}' for i in range(n_features)])\n",
    "adasyn_df['target'] = adasyn_y_train\n",
    "\n",
    "print(adasyn_df['target'].value_counts())"
   ]
  },
  {
   "cell_type": "code",
   "execution_count": null,
   "id": "20b2ec7a-f84f-436d-9d75-3697c9fdbdf3",
   "metadata": {},
   "outputs": [],
   "source": [
    "from imblearn.pipeline import Pipeline\n",
    "from imblearn.under_sampling import RandomUnderSampler\n",
    "from imblearn.over_sampling import SMOTE\n",
    "\n",
    "pipeline_hybrid = Pipeline([\n",
    "    ('under', RandomUnderSampler(sampling_strategy=0.5, random_state=42)),  # reduce majority to 2× minority\n",
    "    ('smote', SMOTE(sampling_strategy=1.0, random_state=42))                 # balance minority to match majority\n",
    "])\n",
    "\n",
    "X_train_hybrid, y_train_hybrid = pipeline_hybrid.fit_resample(X_train, y_train)\n",
    "print(y_train_hybrid.value_counts())"
   ]
  }
 ],
 "metadata": {
  "kernelspec": {
   "display_name": "Python 3 (ipykernel)",
   "language": "python",
   "name": "python3"
  },
  "language_info": {
   "codemirror_mode": {
    "name": "ipython",
    "version": 3
   },
   "file_extension": ".py",
   "mimetype": "text/x-python",
   "name": "python",
   "nbconvert_exporter": "python",
   "pygments_lexer": "ipython3",
   "version": "3.10.11"
  }
 },
 "nbformat": 4,
 "nbformat_minor": 5
}
