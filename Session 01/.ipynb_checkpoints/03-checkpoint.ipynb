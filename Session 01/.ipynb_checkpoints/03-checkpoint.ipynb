{
 "cells": [
  {
   "cell_type": "code",
   "execution_count": null,
   "id": "6dd8dff5-eb3e-4f2a-8a6e-e2cb97f46d18",
   "metadata": {},
   "outputs": [],
   "source": [
    "import pandas as pd\n",
    "import numpy as np\n",
    "import matplotlib.pyplot as plt\n",
    "import sklearn\n",
    "from sklearn.model_selection import train_test_split\n",
    "from sklearn.linear_model import LinearRegression"
   ]
  },
  {
   "cell_type": "code",
   "execution_count": null,
   "id": "a1f1c65b-6b33-4fe5-ac61-3b0e9168fdff",
   "metadata": {},
   "outputs": [],
   "source": [
    "data = pd.read_csv(\"student-mat.csv\", sep=\";\", usecols=['age', 'Medu', 'Fedu', 'freetime', 'health', 'absences', 'guardian', 'G1', 'G2', 'G3'])"
   ]
  },
  {
   "cell_type": "code",
   "execution_count": null,
   "id": "d91dd301-a632-4cdf-a8c8-763b21a4c4a5",
   "metadata": {},
   "outputs": [],
   "source": [
    "data.head()"
   ]
  },
  {
   "cell_type": "code",
   "execution_count": null,
   "id": "a7f95d6e-ec63-433e-a0ab-2e386c138e6e",
   "metadata": {},
   "outputs": [],
   "source": [
    "data['guardian'].unique()"
   ]
  },
  {
   "cell_type": "code",
   "execution_count": null,
   "id": "c517dc4f-3633-46e2-a92d-b8eb14e86b55",
   "metadata": {},
   "outputs": [],
   "source": [
    "data_encoded = pd.get_dummies(data, columns=['guardian'], prefix='guardian')"
   ]
  },
  {
   "cell_type": "code",
   "execution_count": null,
   "id": "db8237ca-d2dc-49ad-8063-10f3151651ad",
   "metadata": {},
   "outputs": [],
   "source": [
    "data_encoded.head()"
   ]
  },
  {
   "cell_type": "code",
   "execution_count": null,
   "id": "96b9238c-cc44-40d7-b792-2603a336a3bb",
   "metadata": {},
   "outputs": [],
   "source": [
    "data_encoded = pd.get_dummies(data, columns=['guardian'], prefix='guardian', drop_first=True)"
   ]
  },
  {
   "cell_type": "code",
   "execution_count": null,
   "id": "f0b23d51-e427-49a5-97a3-c390d29cccab",
   "metadata": {},
   "outputs": [],
   "source": [
    "data_encoded.head()"
   ]
  },
  {
   "cell_type": "code",
   "execution_count": null,
   "id": "5857f319-9738-4ca2-ab23-ecc9ca7066a4",
   "metadata": {},
   "outputs": [],
   "source": [
    "data_encoded['guardian_mother'] = data_encoded['guardian_mother'].astype(int)"
   ]
  },
  {
   "cell_type": "code",
   "execution_count": null,
   "id": "dd801402-20c9-40e7-b49d-12dee140dc3b",
   "metadata": {},
   "outputs": [],
   "source": [
    "data_encoded = data_encoded.astype(int)"
   ]
  },
  {
   "cell_type": "code",
   "execution_count": null,
   "id": "4bcca2da-b5d1-467f-9abd-27a0682e3e5d",
   "metadata": {},
   "outputs": [],
   "source": [
    "X, y = np.array(data_encoded.drop(['G3'], axis=1)), np.array(data_encoded['G3'])"
   ]
  },
  {
   "cell_type": "code",
   "execution_count": null,
   "id": "01762419-46a5-4f45-a7ba-d99157c6ef08",
   "metadata": {},
   "outputs": [],
   "source": [
    "X_train, X_test, y_train, y_test = train_test_split(X, y, test_size=0.2)"
   ]
  },
  {
   "cell_type": "code",
   "execution_count": null,
   "id": "9761a4a4-bf26-4aea-b22f-aeb69d5d7b8c",
   "metadata": {},
   "outputs": [],
   "source": [
    "model = LinearRegression()\n",
    "model.fit(X_train, y_train)\n",
    "acc = model.score(X_test, y_test)\n",
    "print(acc)"
   ]
  },
  {
   "cell_type": "code",
   "execution_count": null,
   "id": "dd18fe83-3202-409a-9c68-6824d5532e12",
   "metadata": {},
   "outputs": [],
   "source": [
    "X_train, X_test, y_train, y_test = train_test_split(X, y, test_size=0.2, random_state=123)"
   ]
  },
  {
   "cell_type": "code",
   "execution_count": null,
   "id": "d95d94df-933e-45c4-9316-969b8c1ed831",
   "metadata": {},
   "outputs": [],
   "source": [
    "model = LinearRegression()\n",
    "model.fit(X_train, y_train)\n",
    "acc = model.score(X_test, y_test)\n",
    "print(acc)"
   ]
  },
  {
   "cell_type": "code",
   "execution_count": null,
   "id": "0d5c6fee-4213-42e5-8595-98c67cba4f16",
   "metadata": {},
   "outputs": [],
   "source": []
  }
 ],
 "metadata": {
  "kernelspec": {
   "display_name": "Python 3 (ipykernel)",
   "language": "python",
   "name": "python3"
  },
  "language_info": {
   "codemirror_mode": {
    "name": "ipython",
    "version": 3
   },
   "file_extension": ".py",
   "mimetype": "text/x-python",
   "name": "python",
   "nbconvert_exporter": "python",
   "pygments_lexer": "ipython3",
   "version": "3.10.11"
  }
 },
 "nbformat": 4,
 "nbformat_minor": 5
}
