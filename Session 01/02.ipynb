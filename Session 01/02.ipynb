{
 "cells": [
  {
   "cell_type": "code",
   "execution_count": 1,
   "id": "6df8ce21-24e1-4a2c-ba63-14b816b5c4e0",
   "metadata": {},
   "outputs": [],
   "source": [
    "import pandas as pd\n",
    "import numpy as np\n",
    "import matplotlib.pyplot as plt\n",
    "import sklearn\n",
    "from sklearn.model_selection import train_test_split\n",
    "from sklearn.linear_model import LinearRegression"
   ]
  },
  {
   "cell_type": "code",
   "execution_count": 2,
   "id": "ba473d66-2bdc-4f06-a29a-d04d872be2fa",
   "metadata": {},
   "outputs": [
    {
     "data": {
      "text/plain": [
       "Index(['age', 'Medu', 'Fedu', 'freetime', 'health', 'absences', 'G1', 'G2',\n",
       "       'G3'],\n",
       "      dtype='object')"
      ]
     },
     "execution_count": 2,
     "metadata": {},
     "output_type": "execute_result"
    }
   ],
   "source": [
    "data = pd.read_csv(\"student-mat.csv\", sep=\";\", usecols=['age', 'Medu', 'Fedu', 'freetime', 'health', 'absences', 'G1', 'G2', 'G3'])\n",
    "data.columns"
   ]
  },
  {
   "cell_type": "code",
   "execution_count": 3,
   "id": "de14c8ac-a430-4900-ad68-14b158c77e8e",
   "metadata": {},
   "outputs": [
    {
     "data": {
      "text/plain": [
       "Index(['age', 'Medu', 'Fedu', 'freetime', 'health', 'absences', 'G1', 'G2',\n",
       "       'G3'],\n",
       "      dtype='object')"
      ]
     },
     "execution_count": 3,
     "metadata": {},
     "output_type": "execute_result"
    }
   ],
   "source": [
    "data =pd.read_csv(\"student-mat.csv\", sep=\";\")\n",
    "data = data[['age', 'Medu', 'Fedu', 'freetime', 'health', 'absences', 'G1', 'G2', 'G3']]\n",
    "data.columns"
   ]
  },
  {
   "cell_type": "code",
   "execution_count": 4,
   "id": "fc830e26-ada5-42bc-b880-f6befda3405b",
   "metadata": {},
   "outputs": [],
   "source": [
    "X = np.array(data.drop(['G3'], axis=1))\n",
    "y = np.array(data['G3'])"
   ]
  },
  {
   "cell_type": "code",
   "execution_count": 5,
   "id": "6914fba1-3866-4eef-ad2d-bb675c03598d",
   "metadata": {},
   "outputs": [],
   "source": [
    "X, y = np.array(data.drop(['G3'], axis=1)), np.array(data['G3'])"
   ]
  },
  {
   "cell_type": "code",
   "execution_count": 6,
   "id": "05785cb0-7210-4b4d-9df2-4d205a2fbf60",
   "metadata": {},
   "outputs": [],
   "source": [
    "X_train, X_test, y_train, y_test = train_test_split(X, y, test_size=0.2)"
   ]
  },
  {
   "cell_type": "code",
   "execution_count": 7,
   "id": "4bc84e1b-d9bb-4df9-aafd-3cc06da65e29",
   "metadata": {},
   "outputs": [
    {
     "name": "stdout",
     "output_type": "stream",
     "text": [
      "0.7831121251793551\n"
     ]
    }
   ],
   "source": [
    "model = LinearRegression()\n",
    "model.fit(X_train, y_train)\n",
    "acc = model.score(X_test, y_test)\n",
    "print(acc)"
   ]
  },
  {
   "cell_type": "code",
   "execution_count": 8,
   "id": "2742b455-5ffe-44ff-9517-967cb22a7add",
   "metadata": {},
   "outputs": [
    {
     "name": "stdout",
     "output_type": "stream",
     "text": [
      "[-0.11185915  0.08516639 -0.14543634  0.14776653  0.0893804   0.0332383\n",
      "  0.18748363  0.9471243 ]\n",
      "-0.6924667646634486\n"
     ]
    }
   ],
   "source": [
    "print(model.coef_)\n",
    "print(model.intercept_)"
   ]
  },
  {
   "cell_type": "code",
   "execution_count": 9,
   "id": "42f12cc7-0d01-4dc8-a5da-969eca11be1b",
   "metadata": {},
   "outputs": [],
   "source": [
    "prediction = model.predict(X_test)"
   ]
  },
  {
   "cell_type": "code",
   "execution_count": 10,
   "id": "3626fece-9988-47a5-8a14-cddce768554a",
   "metadata": {},
   "outputs": [
    {
     "name": "stdout",
     "output_type": "stream",
     "text": [
      "6  =>  5.590249233505624\n",
      "15  =>  14.94911262042753\n",
      "12  =>  12.576650270204647\n",
      "15  =>  15.081932354898436\n",
      "11  =>  7.2664160484752145\n",
      "10  =>  7.350630138710059\n",
      "16  =>  16.563313930156127\n",
      "12  =>  11.334152875447371\n",
      "18  =>  17.596019964952816\n",
      "11  =>  9.832957646063027\n",
      "0  =>  -0.1299337080434867\n",
      "13  =>  13.048471385924486\n",
      "5  =>  4.122647250297076\n",
      "16  =>  17.060947693642248\n",
      "9  =>  8.60164703766964\n",
      "10  =>  9.13339921795651\n",
      "10  =>  8.835105304315677\n",
      "9  =>  7.133961969971274\n",
      "0  =>  3.8951430625442054\n",
      "18  =>  18.3416306656301\n",
      "12  =>  13.185118152325598\n",
      "0  =>  8.454169712894648\n",
      "8  =>  7.080300048908436\n",
      "6  =>  7.619207450037996\n",
      "0  =>  6.033377597438156\n",
      "0  =>  5.162039847313755\n",
      "18  =>  17.401324055013184\n",
      "8  =>  5.006058863130557\n",
      "10  =>  11.54529055763382\n",
      "14  =>  14.150633616317524\n",
      "9  =>  7.462457289856127\n",
      "0  =>  3.688990406373512\n",
      "11  =>  10.577230719277303\n",
      "18  =>  18.96587702483933\n",
      "8  =>  8.104858566476079\n",
      "8  =>  7.690086966614354\n",
      "10  =>  8.33932725495337\n",
      "13  =>  12.826964194893058\n",
      "16  =>  16.342734633044948\n",
      "11  =>  10.916988703376923\n",
      "15  =>  15.37566908799297\n",
      "15  =>  15.162202941879972\n",
      "14  =>  12.599805541938121\n",
      "10  =>  10.450570328993622\n",
      "10  =>  8.525795570744386\n",
      "11  =>  9.805765753381495\n",
      "8  =>  8.278111804400217\n",
      "0  =>  6.928508406810817\n",
      "17  =>  17.133334419135913\n",
      "0  =>  8.521071363921772\n",
      "11  =>  11.79476100740179\n",
      "6  =>  5.047383373499989\n",
      "5  =>  3.5674390840604975\n",
      "15  =>  14.369524578608688\n",
      "10  =>  11.058470511010041\n",
      "11  =>  8.619708197055218\n",
      "10  =>  9.649908748569416\n",
      "9  =>  10.745191232338414\n",
      "14  =>  15.655236013857705\n",
      "11  =>  10.76886296275848\n",
      "0  =>  4.0022081901517765\n",
      "14  =>  12.884292920330287\n",
      "11  =>  9.934002101912442\n",
      "6  =>  4.184148261092387\n",
      "16  =>  15.106229359128324\n",
      "11  =>  11.13395941893899\n",
      "15  =>  14.18429829964849\n",
      "14  =>  13.330876969550163\n",
      "14  =>  13.342500668340861\n",
      "16  =>  14.962889297428344\n",
      "6  =>  5.377994475341985\n",
      "15  =>  15.421484026496932\n",
      "9  =>  8.836162706763902\n",
      "12  =>  12.485747436767099\n",
      "13  =>  12.371087884787912\n",
      "12  =>  13.239037545918476\n",
      "0  =>  6.872452471272415\n",
      "12  =>  12.13808088538529\n",
      "17  =>  16.183454882929105\n"
     ]
    }
   ],
   "source": [
    "for y, y_hat in zip(y_test, prediction):\n",
    "    print(y,y_hat,sep=\"  =>  \")"
   ]
  },
  {
   "cell_type": "code",
   "execution_count": 11,
   "id": "d92a1335-7016-4244-95fc-c39ed9a15c06",
   "metadata": {},
   "outputs": [
    {
     "name": "stdout",
     "output_type": "stream",
     "text": [
      "R² score: 0.7831121251793552\n"
     ]
    }
   ],
   "source": [
    "y_mean = sum(y_test) / len(y_test)\n",
    "\n",
    "# Step 2: residual sum of squares (SS_res)\n",
    "ss_res = 0\n",
    "for yi, yhat in zip(y_test, prediction):\n",
    "    ss_res += (yi - yhat) ** 2\n",
    "\n",
    "# Step 3: total sum of squares (SS_tot)\n",
    "ss_tot = 0\n",
    "for yi in y_test:\n",
    "    ss_tot += (yi - y_mean) ** 2\n",
    "\n",
    "# Step 4: R² score\n",
    "r2 = 1 - (ss_res / ss_tot)\n",
    "\n",
    "print(\"R² score:\", r2)"
   ]
  }
 ],
 "metadata": {
  "kernelspec": {
   "display_name": "Python 3 (ipykernel)",
   "language": "python",
   "name": "python3"
  },
  "language_info": {
   "codemirror_mode": {
    "name": "ipython",
    "version": 3
   },
   "file_extension": ".py",
   "mimetype": "text/x-python",
   "name": "python",
   "nbconvert_exporter": "python",
   "pygments_lexer": "ipython3",
   "version": "3.10.11"
  }
 },
 "nbformat": 4,
 "nbformat_minor": 5
}
