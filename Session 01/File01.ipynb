{
 "cells": [
  {
   "cell_type": "markdown",
   "id": "0d0083c6-0f3d-418c-8e1f-16b202df0729",
   "metadata": {},
   "source": [
    "# Linear Regression"
   ]
  },
  {
   "cell_type": "markdown",
   "id": "0782e80e-cdbc-44f9-83cb-624d0d20ef4b",
   "metadata": {},
   "source": [
    "### Importing Dependencies"
   ]
  },
  {
   "cell_type": "code",
   "execution_count": 1,
   "id": "10818f55-ae4d-4380-8de8-52d1d5eece56",
   "metadata": {},
   "outputs": [],
   "source": [
    "import pandas as pd\n",
    "import numpy as np\n",
    "import matplotlib.pyplot as plt\n",
    "import sklearn\n",
    "from sklearn.model_selection import train_test_split\n",
    "from sklearn.linear_model import LinearRegression"
   ]
  },
  {
   "cell_type": "markdown",
   "id": "c72288ec-da63-46c4-9f36-87ef522061c6",
   "metadata": {},
   "source": [
    "### Data Processing"
   ]
  },
  {
   "cell_type": "code",
   "execution_count": 14,
   "id": "bfda85db-c863-4ee3-99ce-a08aeac038de",
   "metadata": {},
   "outputs": [],
   "source": [
    "data = pd.read_csv(\"student-mat.csv\", sep=\";\", usecols=['age', 'Medu', 'Fedu', 'freetime', 'health', 'absences', 'G1', 'G2', 'G3'])"
   ]
  },
  {
   "cell_type": "code",
   "execution_count": 15,
   "id": "372c2a1a-5f61-4bc7-a2db-98ec5a254dd0",
   "metadata": {
    "scrolled": true
   },
   "outputs": [],
   "source": [
    "X, y = np.array(data.drop(['G3'], axis=1)), np.array(data['G3'])"
   ]
  },
  {
   "cell_type": "code",
   "execution_count": 16,
   "id": "650621fc-247e-4450-bcc4-cf740f2a629b",
   "metadata": {},
   "outputs": [],
   "source": [
    "X_train, X_test, y_train, y_test = train_test_split(X, y, test_size=0.2)"
   ]
  },
  {
   "cell_type": "code",
   "execution_count": 17,
   "id": "63ab817a-7040-4d9a-b0ac-cd13ee6d9058",
   "metadata": {},
   "outputs": [
    {
     "name": "stdout",
     "output_type": "stream",
     "text": [
      "0.8334712461995473\n"
     ]
    }
   ],
   "source": [
    "model = LinearRegression()\n",
    "model.fit(X_train, y_train)\n",
    "acc = model.score(X_test, y_test)\n",
    "print(acc)"
   ]
  },
  {
   "cell_type": "code",
   "execution_count": 26,
   "id": "9b6b5c5e-2dad-4e4d-83c5-294e861d904e",
   "metadata": {},
   "outputs": [
    {
     "name": "stdout",
     "output_type": "stream",
     "text": [
      "0\t=> 4.407894886811818\n",
      "10\t=> 8.017117579818704\n",
      "8\t=> 8.009958761109665\n",
      "10\t=> 8.888962159340718\n",
      "11\t=> 10.81189776771626\n",
      "10\t=> 9.922828797438182\n",
      "12\t=> 13.11786408396175\n",
      "11\t=> 9.187185398806973\n",
      "7\t=> 5.414503975173689\n",
      "18\t=> 18.986382401463217\n",
      "16\t=> 17.382139080391237\n",
      "10\t=> 8.361985581864564\n",
      "8\t=> 5.922894927278128\n",
      "0\t=> 0.1389346750605398\n",
      "12\t=> 11.769508928639588\n",
      "7\t=> 6.058737402656165\n",
      "9\t=> 7.842342743026271\n",
      "5\t=> 4.720973265610391\n",
      "0\t=> -0.23889845253026532\n",
      "10\t=> 9.674095156597811\n",
      "18\t=> 18.281078331364476\n",
      "13\t=> 12.482056932504058\n",
      "6\t=> 7.46977492135563\n",
      "15\t=> 14.696857900751418\n",
      "18\t=> 17.953268812960285\n",
      "10\t=> 8.466825046039983\n",
      "10\t=> 10.29535795501031\n",
      "14\t=> 13.745930409248894\n",
      "0\t=> -1.1136874635807965\n",
      "11\t=> 11.107952885945934\n",
      "15\t=> 16.60691039390941\n",
      "0\t=> 7.042040351012377\n",
      "13\t=> 14.27687635419362\n",
      "9\t=> 6.867687986094712\n",
      "8\t=> 7.238701167668809\n",
      "17\t=> 16.351893132532098\n",
      "15\t=> 15.01085143586745\n",
      "9\t=> 5.044836599568277\n",
      "11\t=> 8.907124870264868\n",
      "8\t=> 8.664079970926053\n",
      "7\t=> 6.395005511711899\n",
      "10\t=> 8.20242746129545\n",
      "15\t=> 15.148936559071066\n",
      "9\t=> 9.145145652390156\n",
      "8\t=> 7.225759318486808\n",
      "10\t=> 8.819464747291544\n",
      "16\t=> 16.35220397427821\n",
      "12\t=> 10.264748446670424\n",
      "8\t=> 6.14355239326857\n",
      "14\t=> 11.99494032659993\n",
      "11\t=> 9.774036778548945\n",
      "13\t=> 12.206957624399381\n",
      "10\t=> 6.907157932229707\n",
      "11\t=> 10.951683460350631\n",
      "0\t=> 6.02573839931215\n",
      "10\t=> 7.369505533283965\n",
      "16\t=> 14.88148253354836\n",
      "14\t=> 13.034962712404125\n",
      "9\t=> 9.215108159691628\n",
      "8\t=> 5.804611522725187\n",
      "9\t=> 9.252997316953609\n",
      "13\t=> 12.068889422956733\n",
      "12\t=> 10.05027204065199\n",
      "20\t=> 19.61945056260747\n",
      "13\t=> 12.718913769093117\n",
      "11\t=> 10.389180114715302\n",
      "8\t=> 8.054504493604131\n",
      "16\t=> 15.219061389095394\n",
      "11\t=> 11.92482125681195\n",
      "12\t=> 11.967916765684956\n",
      "13\t=> 12.4911010397065\n",
      "10\t=> 8.95730717249604\n",
      "6\t=> 3.039815617511194\n",
      "13\t=> 11.8213103859337\n",
      "0\t=> -1.5117270824359377\n",
      "9\t=> 8.104858636900488\n",
      "11\t=> 10.74971867367552\n",
      "0\t=> 5.732069816914174\n",
      "8\t=> 4.521172526605718\n",
      "1.2717779006823753\n"
     ]
    }
   ],
   "source": [
    "prediction = model.predict(X_test)\n",
    "dif = 0\n",
    "for i in range(len(prediction)):\n",
    "    print(f\"{y_test[i]}\\t=> {prediction[i]}\")\n",
    "    dif+=abs(y_test[i]-prediction[i])\n",
    "print(dif/len(prediction))"
   ]
  },
  {
   "cell_type": "code",
   "execution_count": 21,
   "id": "e34d37c2-03b7-4ce6-a3e0-a1980e37ac6a",
   "metadata": {},
   "outputs": [
    {
     "name": "stdout",
     "output_type": "stream",
     "text": [
      "[-0.26080637 -0.01366792 -0.0695129   0.21481618  0.05998342  0.04292655\n",
      "  0.19754977  0.96373015]\n",
      "1.2699388821342659\n"
     ]
    }
   ],
   "source": [
    "print(model.coef_)\n",
    "print(model.intercept_)"
   ]
  },
  {
   "cell_type": "code",
   "execution_count": 28,
   "id": "1d5f90c6-4614-4c79-95b0-a9e1f90e40a2",
   "metadata": {},
   "outputs": [
    {
     "name": "stdout",
     "output_type": "stream",
     "text": [
      "R² score: 0.8334712461995473\n"
     ]
    }
   ],
   "source": [
    "y_mean = sum(y_test) / len(y_test)\n",
    "\n",
    "# Step 2: residual sum of squares (SS_res)\n",
    "ss_res = 0\n",
    "for yi, yhat in zip(y_test, prediction):\n",
    "    ss_res += (yi - yhat) ** 2\n",
    "\n",
    "# Step 3: total sum of squares (SS_tot)\n",
    "ss_tot = 0\n",
    "for yi in y_test:\n",
    "    ss_tot += (yi - y_mean) ** 2\n",
    "\n",
    "# Step 4: R² score\n",
    "r2 = 1 - (ss_res / ss_tot)\n",
    "\n",
    "print(\"R² score:\", r2)"
   ]
  },
  {
   "cell_type": "code",
   "execution_count": null,
   "id": "e15d83dd-9e0d-4185-aa41-1686c4140c13",
   "metadata": {},
   "outputs": [],
   "source": []
  }
 ],
 "metadata": {
  "kernelspec": {
   "display_name": "Python 3 (ipykernel)",
   "language": "python",
   "name": "python3"
  },
  "language_info": {
   "codemirror_mode": {
    "name": "ipython",
    "version": 3
   },
   "file_extension": ".py",
   "mimetype": "text/x-python",
   "name": "python",
   "nbconvert_exporter": "python",
   "pygments_lexer": "ipython3",
   "version": "3.10.11"
  }
 },
 "nbformat": 4,
 "nbformat_minor": 5
}
