{
 "cells": [
  {
   "cell_type": "markdown",
   "id": "dae6f5e9-78d7-47b7-b7bc-bc6ecb602246",
   "metadata": {},
   "source": [
    "### Metrics"
   ]
  },
  {
   "cell_type": "code",
   "execution_count": null,
   "id": "9ded448d-a2f4-42fb-95c6-5672803f7b42",
   "metadata": {},
   "outputs": [],
   "source": [
    "import numpy as np\n",
    "import pandas as pd\n",
    "import matplotlib.pyplot as plt\n",
    "import sklearn\n",
    "from sklearn.model_selection import train_test_split\n",
    "from sklearn.linear_model import LogisticRegression\n",
    "from sklearn.datasets import load_iris"
   ]
  },
  {
   "cell_type": "code",
   "execution_count": null,
   "id": "aa600ea0-06ce-44b4-a1b7-6df18fbd5905",
   "metadata": {},
   "outputs": [],
   "source": [
    "data = load_iris()\n",
    "X, y = data.data, data.target\n",
    "X_train, X_test, y_train, y_test = train_test_split(X, y, test_size=0.3, random_state=123)\n",
    "\n",
    "model = LogisticRegression(max_iter=200)\n",
    "model.fit(X_train, y_train)\n",
    "acc = model.score(X_test, y_test)\n",
    "print(acc)"
   ]
  },
  {
   "cell_type": "code",
   "execution_count": null,
   "id": "5ae87514-0174-4dcd-ac2b-e082d5b0ab1c",
   "metadata": {},
   "outputs": [],
   "source": [
    "from sklearn.metrics import confusion_matrix, ConfusionMatrixDisplay"
   ]
  },
  {
   "cell_type": "code",
   "execution_count": null,
   "id": "7c4f2e05-90a2-473f-bd83-0639c52d333d",
   "metadata": {},
   "outputs": [],
   "source": [
    "y_pred = model.predict(X_test)"
   ]
  },
  {
   "cell_type": "code",
   "execution_count": null,
   "id": "239c7b72-f635-447e-b819-194eb10f431e",
   "metadata": {},
   "outputs": [],
   "source": [
    "cm = confusion_matrix(y_test, y_pred)\n",
    "print(\"Confusion Matrix:\\n\", cm)\n",
    "\n",
    "# Optional: display visually\n",
    "disp = ConfusionMatrixDisplay(confusion_matrix=cm, display_labels=data.target_names)\n",
    "disp.plot(cmap=\"Blues\")\n",
    "plt.title(\"Confusion Matrix - Iris Dataset\")\n",
    "plt.show()"
   ]
  },
  {
   "cell_type": "code",
   "execution_count": null,
   "id": "8413c893-0618-4853-be7f-e0b96b3715d6",
   "metadata": {},
   "outputs": [],
   "source": [
    "from sklearn.metrics import precision_score"
   ]
  },
  {
   "cell_type": "code",
   "execution_count": null,
   "id": "1ecdcc4d-f97f-4b92-87a8-731061d405f9",
   "metadata": {
    "scrolled": true
   },
   "outputs": [],
   "source": [
    "precision_macro = precision_score(y_test, y_pred, average='macro')\n",
    "precision_micro = precision_score(y_test, y_pred, average='micro')\n",
    "precision_weighted = precision_score(y_test, y_pred, average='weighted')\n",
    "print(precision_macro)\n",
    "print(precision_micro)\n",
    "print(precision_weighted)"
   ]
  },
  {
   "cell_type": "code",
   "execution_count": null,
   "id": "18c585ef-7574-4347-b62a-2508692b608f",
   "metadata": {},
   "outputs": [],
   "source": [
    "from sklearn.metrics import recall_score"
   ]
  },
  {
   "cell_type": "code",
   "execution_count": null,
   "id": "99e932f9-cf12-422a-ae6b-a008c9ab6ba9",
   "metadata": {},
   "outputs": [],
   "source": [
    "recall_macro = recall_score(y_test, y_pred, average='macro')\n",
    "print(recall_macro)"
   ]
  },
  {
   "cell_type": "code",
   "execution_count": null,
   "id": "f92b3fd7-10e2-4b9a-ba6b-624feca7d916",
   "metadata": {},
   "outputs": [],
   "source": [
    "from sklearn.metrics import f1_score"
   ]
  },
  {
   "cell_type": "code",
   "execution_count": null,
   "id": "ada615e2-81ac-4138-a86c-a794484c5522",
   "metadata": {},
   "outputs": [],
   "source": [
    "f1_macro = f1_score(y_test, y_pred, average='macro')\n",
    "print(f1_macro)"
   ]
  }
 ],
 "metadata": {
  "kernelspec": {
   "display_name": "Python 3 (ipykernel)",
   "language": "python",
   "name": "python3"
  },
  "language_info": {
   "codemirror_mode": {
    "name": "ipython",
    "version": 3
   },
   "file_extension": ".py",
   "mimetype": "text/x-python",
   "name": "python",
   "nbconvert_exporter": "python",
   "pygments_lexer": "ipython3",
   "version": "3.10.11"
  }
 },
 "nbformat": 4,
 "nbformat_minor": 5
}
