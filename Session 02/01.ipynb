{
 "cells": [
  {
   "cell_type": "markdown",
   "id": "76b2b3e2-90c3-4371-8981-dbb80cab9f97",
   "metadata": {},
   "source": [
    "### Iris = زنبق"
   ]
  },
  {
   "cell_type": "code",
   "execution_count": 1,
   "id": "169990ad-f1f0-461d-b7c2-8065ead23264",
   "metadata": {},
   "outputs": [],
   "source": [
    "import numpy as np\n",
    "import pandas as pd\n",
    "import matplotlib.pyplot as plt\n",
    "import sklearn\n",
    "from sklearn.model_selection import train_test_split\n",
    "from sklearn.linear_model import LogisticRegression\n",
    "from sklearn.datasets import load_iris"
   ]
  },
  {
   "cell_type": "code",
   "execution_count": 2,
   "id": "9e0a8e0a-5885-4b20-94d5-e8d768626b0a",
   "metadata": {},
   "outputs": [],
   "source": [
    "data = load_iris()"
   ]
  },
  {
   "cell_type": "code",
   "execution_count": 3,
   "id": "2b68dd9f-e192-4b11-86f3-338e712d58fd",
   "metadata": {},
   "outputs": [
    {
     "name": "stdout",
     "output_type": "stream",
     "text": [
      "['DESCR', 'data', 'data_module', 'feature_names', 'filename', 'frame', 'target', 'target_names']\n"
     ]
    }
   ],
   "source": [
    "print(dir(data))"
   ]
  },
  {
   "cell_type": "code",
   "execution_count": 4,
   "id": "c60625c4-fc1f-4115-9b9c-3ce57066183d",
   "metadata": {},
   "outputs": [],
   "source": [
    "df = pd.DataFrame(data.data, columns= data.feature_names)"
   ]
  },
  {
   "cell_type": "code",
   "execution_count": 5,
   "id": "6c1fbf57-5413-4531-a46c-4b15ab6ee8fe",
   "metadata": {},
   "outputs": [
    {
     "name": "stdout",
     "output_type": "stream",
     "text": [
      "<class 'pandas.core.frame.DataFrame'>\n",
      "RangeIndex: 150 entries, 0 to 149\n",
      "Data columns (total 4 columns):\n",
      " #   Column             Non-Null Count  Dtype  \n",
      "---  ------             --------------  -----  \n",
      " 0   sepal length (cm)  150 non-null    float64\n",
      " 1   sepal width (cm)   150 non-null    float64\n",
      " 2   petal length (cm)  150 non-null    float64\n",
      " 3   petal width (cm)   150 non-null    float64\n",
      "dtypes: float64(4)\n",
      "memory usage: 4.8 KB\n"
     ]
    }
   ],
   "source": [
    "df.info()"
   ]
  },
  {
   "cell_type": "code",
   "execution_count": 6,
   "id": "5e56b5cb-a4ef-466f-addc-cdbb6ac21b4d",
   "metadata": {},
   "outputs": [],
   "source": [
    "X, y = data.data, data.target"
   ]
  },
  {
   "cell_type": "code",
   "execution_count": 7,
   "id": "e473d208-8f78-49dc-babf-0b3246d06c9e",
   "metadata": {},
   "outputs": [],
   "source": [
    "X_train, X_test, y_train, y_test = train_test_split(X, y, test_size=0.2, random_state=123)"
   ]
  },
  {
   "cell_type": "code",
   "execution_count": 8,
   "id": "188c567c-6026-43d3-9874-83088ebaeb50",
   "metadata": {},
   "outputs": [
    {
     "name": "stdout",
     "output_type": "stream",
     "text": [
      "1.0\n"
     ]
    }
   ],
   "source": [
    "model = LogisticRegression(max_iter=1000)\n",
    "model.fit(X_train, y_train)\n",
    "acc = model.score(X_test, y_test)\n",
    "print(acc)"
   ]
  },
  {
   "cell_type": "code",
   "execution_count": 9,
   "id": "816ba514-52c8-4cfc-9472-4313309500d2",
   "metadata": {},
   "outputs": [
    {
     "data": {
      "text/plain": [
       "array([1])"
      ]
     },
     "execution_count": 9,
     "metadata": {},
     "output_type": "execute_result"
    }
   ],
   "source": [
    "model.predict([X_test[0]])"
   ]
  },
  {
   "cell_type": "code",
   "execution_count": 10,
   "id": "27f495a4-bb91-4e62-a726-decd651a5f53",
   "metadata": {},
   "outputs": [
    {
     "data": {
      "text/plain": [
       "array([[-0.4173221 ,  0.96066887, -2.40901038, -1.00881416],\n",
       "       [ 0.48966708, -0.18183282, -0.20133576, -0.8176245 ],\n",
       "       [-0.07234499, -0.77883605,  2.61034614,  1.82643866]])"
      ]
     },
     "execution_count": 10,
     "metadata": {},
     "output_type": "execute_result"
    }
   ],
   "source": [
    "model.coef_"
   ]
  },
  {
   "cell_type": "code",
   "execution_count": 11,
   "id": "b75e4769-2061-4e93-a6af-60ca822af814",
   "metadata": {},
   "outputs": [
    {
     "data": {
      "text/plain": [
       "array([6.3, 2.5, 4.9, 1.5])"
      ]
     },
     "execution_count": 11,
     "metadata": {},
     "output_type": "execute_result"
    }
   ],
   "source": [
    "X_test[0]"
   ]
  },
  {
   "cell_type": "code",
   "execution_count": 12,
   "id": "4389bbd3-c5b9-42af-bd6e-e4cb4ecc46a4",
   "metadata": {},
   "outputs": [
    {
     "data": {
      "text/plain": [
       "array([  9.32022185,   1.87705655, -11.1972784 ])"
      ]
     },
     "execution_count": 12,
     "metadata": {},
     "output_type": "execute_result"
    }
   ],
   "source": [
    "model.intercept_"
   ]
  },
  {
   "cell_type": "code",
   "execution_count": 13,
   "id": "4ba45372-e368-4c97-8305-afe3ed35865b",
   "metadata": {},
   "outputs": [
    {
     "name": "stdout",
     "output_type": "stream",
     "text": [
      "[6.979842820769974, 3.292548850123535, -10.272391670893553]\n"
     ]
    }
   ],
   "source": [
    "result_list = [np.dot(model.coef_[i], X[0]) + model.intercept_[i] for i in range(3)]\n",
    "print(result_list)"
   ]
  },
  {
   "cell_type": "code",
   "execution_count": 14,
   "id": "5a8456e5-044a-4745-91b7-07d08a3701ab",
   "metadata": {},
   "outputs": [
    {
     "name": "stdout",
     "output_type": "stream",
     "text": [
      "[-4.224607322493965, 2.2943951673494682, 1.9302121551444067]\n"
     ]
    }
   ],
   "source": [
    "results = [0]*3\n",
    "for i in range(3):\n",
    "    for j in range(4):\n",
    "        results[i]+=model.coef_[i][j]*X_test[0][j]\n",
    "    results[i]+=model.intercept_[i]\n",
    "print(results)"
   ]
  },
  {
   "cell_type": "code",
   "execution_count": 15,
   "id": "e3ca906f-6875-459f-9a82-c88fe5bc941d",
   "metadata": {},
   "outputs": [
    {
     "name": "stdout",
     "output_type": "stream",
     "text": [
      "1101.6608293670351\n"
     ]
    }
   ],
   "source": [
    "eulers = [np.e**i for i in result_list]\n",
    "sum_euler = sum(eulers)\n",
    "print(sum_euler)"
   ]
  },
  {
   "cell_type": "code",
   "execution_count": 16,
   "id": "68ed79e5-dadd-40d1-b027-9e83ab760ab0",
   "metadata": {},
   "outputs": [
    {
     "name": "stdout",
     "output_type": "stream",
     "text": [
      "[0.9755719698679036, 0.0244279987480401, 3.1384056244879815e-08]\n",
      "0\n"
     ]
    }
   ],
   "source": [
    "prob = [i/sum_euler for i in eulers]\n",
    "print(prob)\n",
    "print(prob.index(max(prob)))"
   ]
  },
  {
   "cell_type": "code",
   "execution_count": 17,
   "id": "c6b8eb67-ac0d-4dbb-a74c-b19671e9ff0b",
   "metadata": {},
   "outputs": [
    {
     "data": {
      "text/plain": [
       "array([1])"
      ]
     },
     "execution_count": 17,
     "metadata": {},
     "output_type": "execute_result"
    }
   ],
   "source": [
    "model.predict([X_test[0]])"
   ]
  }
 ],
 "metadata": {
  "kernelspec": {
   "display_name": "Python 3 (ipykernel)",
   "language": "python",
   "name": "python3"
  },
  "language_info": {
   "codemirror_mode": {
    "name": "ipython",
    "version": 3
   },
   "file_extension": ".py",
   "mimetype": "text/x-python",
   "name": "python",
   "nbconvert_exporter": "python",
   "pygments_lexer": "ipython3",
   "version": "3.10.11"
  }
 },
 "nbformat": 4,
 "nbformat_minor": 5
}
