{
 "cells": [
  {
   "cell_type": "code",
   "execution_count": null,
   "id": "f959ad9d-9bfb-487a-a361-e37fd1fa84cb",
   "metadata": {},
   "outputs": [],
   "source": [
    "from sklearn.datasets import fetch_california_housing\n",
    "import pandas as pd\n",
    "import numpy as np"
   ]
  },
  {
   "cell_type": "code",
   "execution_count": null,
   "id": "d87cfc6f-b046-4507-836d-f448dbc35eff",
   "metadata": {},
   "outputs": [],
   "source": [
    "data = fetch_california_housing()\n",
    "housing = fetch_california_housing()\n",
    "df = pd.DataFrame(housing.data, columns=housing.feature_names)\n",
    "df['target'] = housing.target\n",
    "\n",
    "df.head()"
   ]
  },
  {
   "cell_type": "code",
   "execution_count": null,
   "id": "09255ff9-90f4-4a1a-a70d-b908a7cb7957",
   "metadata": {},
   "outputs": [],
   "source": [
    "rng = np.random.default_rng(42)\n",
    "missing_mask = rng.random(df.shape) < 0.1  # 10% missing values randomly\n",
    "df_missing = df.mask(missing_mask)\n",
    "\n",
    "print(\"Missing values per column:\")\n",
    "print(df_missing.isnull().sum())"
   ]
  },
  {
   "cell_type": "code",
   "execution_count": null,
   "id": "25df5d0a-657b-450f-9452-29f5a974f411",
   "metadata": {},
   "outputs": [],
   "source": [
    "import matplotlib.pyplot as plt\n",
    "import missingno as msno\n",
    "\n",
    "msno.matrix(df_missing)\n",
    "plt.show()"
   ]
  },
  {
   "cell_type": "code",
   "execution_count": null,
   "id": "8f86f379-d015-4454-95b1-7625ea331137",
   "metadata": {},
   "outputs": [],
   "source": [
    "from sklearn.impute import SimpleImputer\n",
    "\n",
    "mean_imputer = SimpleImputer(strategy='mean')\n",
    "df_mean_imputed = pd.DataFrame(mean_imputer.fit_transform(df_missing), columns=df_missing.columns)\n",
    "\n",
    "df_mean_imputed.isnull().sum()"
   ]
  },
  {
   "cell_type": "code",
   "execution_count": null,
   "id": "3a7ea5e1-7796-4064-80b9-be062e7eefb4",
   "metadata": {},
   "outputs": [],
   "source": [
    "median_imputer = SimpleImputer(strategy='median')\n",
    "df_median_imputed = pd.DataFrame(median_imputer.fit_transform(df_missing), columns=df_missing.columns)\n",
    "\n",
    "df_median_imputed.isnull().sum()"
   ]
  },
  {
   "cell_type": "code",
   "execution_count": null,
   "id": "4658ddba-f05e-40cb-9416-df1eeee400ab",
   "metadata": {},
   "outputs": [],
   "source": [
    "from sklearn.impute import KNNImputer\n",
    "\n",
    "knn_imputer = KNNImputer(n_neighbors=5)\n",
    "df_knn_imputed = pd.DataFrame(knn_imputer.fit_transform(df_missing), columns=df_missing.columns)\n",
    "\n",
    "df_knn_imputed.isnull().sum()"
   ]
  },
  {
   "cell_type": "code",
   "execution_count": null,
   "id": "9bb5b985-4d6e-481f-9356-206e0ababd4c",
   "metadata": {},
   "outputs": [],
   "source": [
    "from sklearn.experimental import enable_iterative_imputer  # noqa\n",
    "from sklearn.impute import IterativeImputer\n",
    "\n",
    "mice_imputer = IterativeImputer(random_state=42)\n",
    "df_mice_imputed = pd.DataFrame(mice_imputer.fit_transform(df_missing), columns=df_missing.columns)\n",
    "\n",
    "df_mice_imputed.isnull().sum()"
   ]
  },
  {
   "cell_type": "code",
   "execution_count": null,
   "id": "85b610aa-45bf-4e32-8a24-85f31288bbe5",
   "metadata": {},
   "outputs": [],
   "source": [
    "from sklearn.model_selection import train_test_split\n",
    "from sklearn.linear_model import LinearRegression\n",
    "from sklearn.metrics import mean_squared_error\n",
    "\n",
    "def evaluate_model(df_imputed, name):\n",
    "    X = df_imputed.drop(columns=['target'])\n",
    "    y = df_imputed['target']\n",
    "    X_train, X_test, y_train, y_test = train_test_split(X, y, test_size=0.2, random_state=42)\n",
    "    model = LinearRegression()\n",
    "    model.fit(X_train, y_train)\n",
    "    y_pred = model.predict(X_test)\n",
    "    mse = mean_squared_error(y_test, y_pred)\n",
    "    print(f\"{name}: MSE = {mse:.4f}\")\n",
    "\n",
    "evaluate_model(df, \"No Missing Values\")\n",
    "evaluate_model(df_mean_imputed, \"Mean Imputation\")\n",
    "evaluate_model(df_median_imputed, \"Median Imputation\")\n",
    "evaluate_model(df_knn_imputed, \"KNN Imputation\")\n",
    "evaluate_model(df_mice_imputed, \"MICE Imputation\")"
   ]
  },
  {
   "cell_type": "code",
   "execution_count": null,
   "id": "c7ac2271-7872-4064-932d-e096aff90430",
   "metadata": {},
   "outputs": [],
   "source": []
  }
 ],
 "metadata": {
  "kernelspec": {
   "display_name": "Python 3 (ipykernel)",
   "language": "python",
   "name": "python3"
  },
  "language_info": {
   "codemirror_mode": {
    "name": "ipython",
    "version": 3
   },
   "file_extension": ".py",
   "mimetype": "text/x-python",
   "name": "python",
   "nbconvert_exporter": "python",
   "pygments_lexer": "ipython3",
   "version": "3.10.11"
  }
 },
 "nbformat": 4,
 "nbformat_minor": 5
}
