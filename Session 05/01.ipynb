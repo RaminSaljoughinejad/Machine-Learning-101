{
 "cells": [
  {
   "cell_type": "code",
   "execution_count": null,
   "id": "797e415e-4f4f-44b6-b968-e5738475feab",
   "metadata": {},
   "outputs": [],
   "source": [
    "from sklearn.datasets import fetch_california_housing"
   ]
  },
  {
   "cell_type": "code",
   "execution_count": null,
   "id": "f3fcf385-3545-4ecb-a8e0-38d606ceb816",
   "metadata": {},
   "outputs": [],
   "source": [
    "data = fetch_california_housing()"
   ]
  },
  {
   "cell_type": "code",
   "execution_count": null,
   "id": "9a74b382-7fe3-461c-b3f1-f096ea880f0b",
   "metadata": {},
   "outputs": [],
   "source": [
    "import pandas as pd\n",
    "import numpy as np"
   ]
  },
  {
   "cell_type": "code",
   "execution_count": null,
   "id": "8f77607c-b5f4-4edb-8852-43d929ae21b0",
   "metadata": {},
   "outputs": [],
   "source": [
    "housing = fetch_california_housing()\n",
    "df = pd.DataFrame(housing.data, columns=housing.feature_names)\n",
    "df['target'] = housing.target\n",
    "\n",
    "df.head()"
   ]
  },
  {
   "cell_type": "code",
   "execution_count": null,
   "id": "8b823983-f02f-4fe2-acff-35610242a565",
   "metadata": {},
   "outputs": [],
   "source": [
    "rng = np.random.default_rng(42)\n",
    "missing_mask = rng.random(df.shape) < 0.1  # 10% missing values randomly\n",
    "df_missing = df.mask(missing_mask)\n",
    "\n",
    "print(\"Missing values per column:\")\n",
    "print(df_missing.isnull().sum())"
   ]
  },
  {
   "cell_type": "code",
   "execution_count": null,
   "id": "d830925b-4f3b-46b9-8fe7-bfdbb275e3da",
   "metadata": {},
   "outputs": [],
   "source": [
    "import matplotlib.pyplot as plt\n",
    "import missingno as msno\n",
    "\n",
    "msno.matrix(df_missing)\n",
    "plt.show()"
   ]
  },
  {
   "cell_type": "code",
   "execution_count": null,
   "id": "fb70eac7-369e-4090-b24d-627fe5b97168",
   "metadata": {},
   "outputs": [],
   "source": [
    "df_drop = df_missing.dropna()\n",
    "print(\"Shape before:\", df_missing.shape)\n",
    "print(\"Shape after dropping rows:\", df_drop.shape)"
   ]
  },
  {
   "cell_type": "markdown",
   "id": "a127bb03-62de-43dd-b0a5-b1902b5b78dd",
   "metadata": {},
   "source": [
    "### Simple Imputers"
   ]
  },
  {
   "cell_type": "code",
   "execution_count": null,
   "id": "92a9ba7f-75c0-4b70-b379-378d12151cf4",
   "metadata": {},
   "outputs": [],
   "source": [
    "_df_missing = df_missing.copy()\n",
    "mean_val = _df_missing['MedInc'].mean()\n",
    "_df_missing['MedInc'] = _df_missing['MedInc'].fillna(mean_val)"
   ]
  },
  {
   "cell_type": "code",
   "execution_count": null,
   "id": "d4fdbbbf-6d72-490c-b711-872751e6d372",
   "metadata": {},
   "outputs": [],
   "source": [
    "msno.matrix(_df_missing)\n",
    "plt.show()"
   ]
  },
  {
   "cell_type": "code",
   "execution_count": null,
   "id": "519d05ee-a553-4313-adb0-dbf4a54e0bf3",
   "metadata": {},
   "outputs": [],
   "source": [
    "from sklearn.impute import SimpleImputer\n",
    "\n",
    "mean_imputer = SimpleImputer(strategy='mean')\n",
    "df_mean_imputed = pd.DataFrame(mean_imputer.fit_transform(df_missing), columns=df_missing.columns)\n",
    "\n",
    "df_mean_imputed.isnull().sum()"
   ]
  },
  {
   "cell_type": "code",
   "execution_count": null,
   "id": "cc8cec5c-cf8f-443b-9b2d-6a27ac9beb26",
   "metadata": {},
   "outputs": [],
   "source": [
    "from sklearn.impute import SimpleImputer\n",
    "\n",
    "median_imputer = SimpleImputer(strategy='median')\n",
    "df_median_imputed = pd.DataFrame(median_imputer.fit_transform(df_missing), columns=df_missing.columns)\n",
    "\n",
    "df_median_imputed.isnull().sum()"
   ]
  },
  {
   "cell_type": "code",
   "execution_count": null,
   "id": "46410f14-32e8-414c-867b-1755f85fe795",
   "metadata": {},
   "outputs": [],
   "source": [
    "msno.matrix(df_mean_imputed)\n",
    "plt.show()"
   ]
  },
  {
   "cell_type": "code",
   "execution_count": null,
   "id": "b96da7af-376a-4130-aa51-6bad6d2fb1f8",
   "metadata": {},
   "outputs": [],
   "source": [
    "classes = pd.Series(['A', 'A', 'B', 'B', np.nan, 'B',np.nan])\n",
    "mode_label = classes.mode()[0]\n",
    "classes_mode = classes.fillna(mode_label)\n",
    "print(classes_mode)"
   ]
  },
  {
   "cell_type": "code",
   "execution_count": null,
   "id": "62ae684b-c655-45ca-85b4-1730d5ca768f",
   "metadata": {},
   "outputs": [],
   "source": [
    "median_imputer = SimpleImputer(strategy='median')\n",
    "df_median_imputed = pd.DataFrame(median_imputer.fit_transform(df_missing), columns=df_missing.columns)\n",
    "\n",
    "df_median_imputed.isnull().sum()"
   ]
  },
  {
   "cell_type": "code",
   "execution_count": null,
   "id": "490838cc-9507-4772-bc51-c77d6453e58c",
   "metadata": {},
   "outputs": [],
   "source": [
    "from sklearn.model_selection import train_test_split\n",
    "from sklearn.linear_model import LinearRegression\n",
    "from sklearn.metrics import mean_squared_error\n",
    "\n",
    "def evaluate_model(df_imputed, name):\n",
    "    X = df_imputed.drop(columns=['target'])\n",
    "    y = df_imputed['target']\n",
    "    X_train, X_test, y_train, y_test = train_test_split(X, y, test_size=0.2, random_state=42)\n",
    "    model = LinearRegression()\n",
    "    model.fit(X_train, y_train)\n",
    "    y_pred = model.predict(X_test)\n",
    "    mse = mean_squared_error(y_test, y_pred)\n",
    "    print(f\"{name}: MSE = {mse:.4f}\")\n",
    "\n",
    "evaluate_model(df, \"No Missing Values\")\n",
    "evaluate_model(df_drop, \"Drop Rows\")\n",
    "evaluate_model(df_mean_imputed, \"Mean Imputation\")\n",
    "evaluate_model(df_median_imputed, \"Median Imputation\")"
   ]
  },
  {
   "cell_type": "code",
   "execution_count": null,
   "id": "c47db7ab-c621-4893-ae75-cbb40dfcffb1",
   "metadata": {},
   "outputs": [],
   "source": [
    "_df_missing_row_ind = df_missing.copy()\n",
    "indicators = _df_missing_row_ind.isna().astype(int)\n",
    "indicators = indicators.add_suffix('_missing')\n",
    "_df_missing_row_ind = pd.concat([_df_missing_row_ind, indicators], axis=1)"
   ]
  },
  {
   "cell_type": "code",
   "execution_count": null,
   "id": "5bd560b1-9984-4647-9049-06f16b599672",
   "metadata": {},
   "outputs": [],
   "source": [
    "median_imputer = SimpleImputer(strategy='median')\n",
    "_df_missing_row_ind = pd.DataFrame(median_imputer.fit_transform(_df_missing_row_ind), columns=_df_missing_row_ind.columns)\n",
    "\n",
    "_df_missing_row_ind.isnull().sum()"
   ]
  },
  {
   "cell_type": "code",
   "execution_count": null,
   "id": "cd581e24-d8b3-4b99-ac48-5e3f3fa0ad0b",
   "metadata": {},
   "outputs": [],
   "source": [
    "X = _df_missing_row_ind.drop(columns=['target'])\n",
    "y = _df_missing_row_ind['target']\n",
    "X_train, X_test, y_train, y_test = train_test_split(X, y, test_size=0.2, random_state=42)\n",
    "model = LinearRegression()\n",
    "model.fit(X_train, y_train)\n",
    "y_pred = model.predict(X_test)\n",
    "mse = mean_squared_error(y_test, y_pred)\n",
    "print(mse)"
   ]
  },
  {
   "cell_type": "code",
   "execution_count": null,
   "id": "072e5a32-27f0-4c5a-b363-95f745a79b4a",
   "metadata": {},
   "outputs": [],
   "source": []
  }
 ],
 "metadata": {
  "kernelspec": {
   "display_name": "Python 3 (ipykernel)",
   "language": "python",
   "name": "python3"
  },
  "language_info": {
   "codemirror_mode": {
    "name": "ipython",
    "version": 3
   },
   "file_extension": ".py",
   "mimetype": "text/x-python",
   "name": "python",
   "nbconvert_exporter": "python",
   "pygments_lexer": "ipython3",
   "version": "3.10.11"
  }
 },
 "nbformat": 4,
 "nbformat_minor": 5
}
