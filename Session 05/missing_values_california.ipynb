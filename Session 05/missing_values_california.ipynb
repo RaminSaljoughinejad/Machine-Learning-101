{
 "cells": [
  {
   "cell_type": "markdown",
   "id": "f7f385d7",
   "metadata": {},
   "source": [
    "# 🧭 Handling Missing Values in Machine Learning — California Housing Dataset\n",
    "\n",
    "This notebook covers:\n",
    "- Exploring missing data\n",
    "- Dropping missing values\n",
    "- Simple imputation (mean/median/mode)\n",
    "- Advanced imputation (KNN, Iterative Imputer)\n",
    "- Model performance comparison\n",
    "\n",
    "---\n",
    "\n",
    "## 📦 1. Load and Explore Dataset\n"
   ]
  },
  {
   "cell_type": "code",
   "execution_count": 2,
   "id": "6bce4717",
   "metadata": {},
   "outputs": [
    {
     "data": {
      "text/html": [
       "<div>\n",
       "<style scoped>\n",
       "    .dataframe tbody tr th:only-of-type {\n",
       "        vertical-align: middle;\n",
       "    }\n",
       "\n",
       "    .dataframe tbody tr th {\n",
       "        vertical-align: top;\n",
       "    }\n",
       "\n",
       "    .dataframe thead th {\n",
       "        text-align: right;\n",
       "    }\n",
       "</style>\n",
       "<table border=\"1\" class=\"dataframe\">\n",
       "  <thead>\n",
       "    <tr style=\"text-align: right;\">\n",
       "      <th></th>\n",
       "      <th>MedInc</th>\n",
       "      <th>HouseAge</th>\n",
       "      <th>AveRooms</th>\n",
       "      <th>AveBedrms</th>\n",
       "      <th>Population</th>\n",
       "      <th>AveOccup</th>\n",
       "      <th>Latitude</th>\n",
       "      <th>Longitude</th>\n",
       "      <th>target</th>\n",
       "    </tr>\n",
       "  </thead>\n",
       "  <tbody>\n",
       "    <tr>\n",
       "      <th>0</th>\n",
       "      <td>8.3252</td>\n",
       "      <td>41.0</td>\n",
       "      <td>6.984127</td>\n",
       "      <td>1.023810</td>\n",
       "      <td>322.0</td>\n",
       "      <td>2.555556</td>\n",
       "      <td>37.88</td>\n",
       "      <td>-122.23</td>\n",
       "      <td>4.526</td>\n",
       "    </tr>\n",
       "    <tr>\n",
       "      <th>1</th>\n",
       "      <td>8.3014</td>\n",
       "      <td>21.0</td>\n",
       "      <td>6.238137</td>\n",
       "      <td>0.971880</td>\n",
       "      <td>2401.0</td>\n",
       "      <td>2.109842</td>\n",
       "      <td>37.86</td>\n",
       "      <td>-122.22</td>\n",
       "      <td>3.585</td>\n",
       "    </tr>\n",
       "    <tr>\n",
       "      <th>2</th>\n",
       "      <td>7.2574</td>\n",
       "      <td>52.0</td>\n",
       "      <td>8.288136</td>\n",
       "      <td>1.073446</td>\n",
       "      <td>496.0</td>\n",
       "      <td>2.802260</td>\n",
       "      <td>37.85</td>\n",
       "      <td>-122.24</td>\n",
       "      <td>3.521</td>\n",
       "    </tr>\n",
       "    <tr>\n",
       "      <th>3</th>\n",
       "      <td>5.6431</td>\n",
       "      <td>52.0</td>\n",
       "      <td>5.817352</td>\n",
       "      <td>1.073059</td>\n",
       "      <td>558.0</td>\n",
       "      <td>2.547945</td>\n",
       "      <td>37.85</td>\n",
       "      <td>-122.25</td>\n",
       "      <td>3.413</td>\n",
       "    </tr>\n",
       "    <tr>\n",
       "      <th>4</th>\n",
       "      <td>3.8462</td>\n",
       "      <td>52.0</td>\n",
       "      <td>6.281853</td>\n",
       "      <td>1.081081</td>\n",
       "      <td>565.0</td>\n",
       "      <td>2.181467</td>\n",
       "      <td>37.85</td>\n",
       "      <td>-122.25</td>\n",
       "      <td>3.422</td>\n",
       "    </tr>\n",
       "  </tbody>\n",
       "</table>\n",
       "</div>"
      ],
      "text/plain": [
       "   MedInc  HouseAge  AveRooms  AveBedrms  Population  AveOccup  Latitude  \\\n",
       "0  8.3252      41.0  6.984127   1.023810       322.0  2.555556     37.88   \n",
       "1  8.3014      21.0  6.238137   0.971880      2401.0  2.109842     37.86   \n",
       "2  7.2574      52.0  8.288136   1.073446       496.0  2.802260     37.85   \n",
       "3  5.6431      52.0  5.817352   1.073059       558.0  2.547945     37.85   \n",
       "4  3.8462      52.0  6.281853   1.081081       565.0  2.181467     37.85   \n",
       "\n",
       "   Longitude  target  \n",
       "0    -122.23   4.526  \n",
       "1    -122.22   3.585  \n",
       "2    -122.24   3.521  \n",
       "3    -122.25   3.413  \n",
       "4    -122.25   3.422  "
      ]
     },
     "execution_count": 2,
     "metadata": {},
     "output_type": "execute_result"
    }
   ],
   "source": [
    "from sklearn.datasets import fetch_california_housing\n",
    "import pandas as pd\n",
    "import numpy as np\n",
    "\n",
    "# Load California Housing dataset\n",
    "housing = fetch_california_housing()\n",
    "df = pd.DataFrame(housing.data, columns=housing.feature_names)\n",
    "df['target'] = housing.target\n",
    "\n",
    "df.head()\n"
   ]
  },
  {
   "cell_type": "markdown",
   "id": "c0984cb5",
   "metadata": {},
   "source": [
    "## 🧪 2. Introduce Missing Values"
   ]
  },
  {
   "cell_type": "code",
   "execution_count": 2,
   "id": "a41a3cd4",
   "metadata": {},
   "outputs": [
    {
     "name": "stdout",
     "output_type": "stream",
     "text": [
      "Missing values per column:\n",
      "MedInc        2060\n",
      "HouseAge      2077\n",
      "AveRooms      2022\n",
      "AveBedrms     2072\n",
      "Population    1962\n",
      "AveOccup      2115\n",
      "Latitude      2037\n",
      "Longitude     2123\n",
      "target        2003\n",
      "dtype: int64\n"
     ]
    }
   ],
   "source": [
    "rng = np.random.default_rng(42)\n",
    "missing_mask = rng.random(df.shape) < 0.1  # 10% missing values randomly\n",
    "df_missing = df.mask(missing_mask)\n",
    "\n",
    "print(\"Missing values per column:\")\n",
    "print(df_missing.isnull().sum())"
   ]
  },
  {
   "cell_type": "markdown",
   "id": "e466d1d1",
   "metadata": {},
   "source": [
    "## 📊 3. Visualize Missingness"
   ]
  },
  {
   "cell_type": "code",
   "execution_count": 3,
   "id": "95594aed",
   "metadata": {},
   "outputs": [
    {
     "data": {
      "image/png": "[encoded data removed]",
      "text/plain": [
       "<Figure size 2500x1000 with 2 Axes>"
      ]
     },
     "metadata": {},
     "output_type": "display_data"
    }
   ],
   "source": [
    "import matplotlib.pyplot as plt\n",
    "import missingno as msno\n",
    "\n",
    "msno.matrix(df_missing)\n",
    "plt.show()\n"
   ]
  },
  {
   "cell_type": "markdown",
   "id": "2e553d73",
   "metadata": {},
   "source": [
    "## 🧹 4. Handle Missing Values — Dropping Rows"
   ]
  },
  {
   "cell_type": "code",
   "execution_count": 4,
   "id": "671f5837",
   "metadata": {},
   "outputs": [
    {
     "name": "stdout",
     "output_type": "stream",
     "text": [
      "Shape before: (20640, 9)\n",
      "Shape after dropping rows: (8087, 9)\n"
     ]
    }
   ],
   "source": [
    "df_drop = df_missing.dropna()\n",
    "print(\"Shape before:\", df_missing.shape)\n",
    "print(\"Shape after dropping rows:\", df_drop.shape)"
   ]
  },
  {
   "cell_type": "markdown",
   "id": "452c32fe",
   "metadata": {},
   "source": [
    "## 🧮 5. Simple Imputation (Mean)"
   ]
  },
  {
   "cell_type": "code",
   "execution_count": 5,
   "id": "291c7246",
   "metadata": {},
   "outputs": [
    {
     "data": {
      "text/plain": [
       "MedInc        0\n",
       "HouseAge      0\n",
       "AveRooms      0\n",
       "AveBedrms     0\n",
       "Population    0\n",
       "AveOccup      0\n",
       "Latitude      0\n",
       "Longitude     0\n",
       "target        0\n",
       "dtype: int64"
      ]
     },
     "execution_count": 5,
     "metadata": {},
     "output_type": "execute_result"
    }
   ],
   "source": [
    "from sklearn.impute import SimpleImputer\n",
    "\n",
    "mean_imputer = SimpleImputer(strategy='mean')\n",
    "df_mean_imputed = pd.DataFrame(mean_imputer.fit_transform(df_missing), columns=df_missing.columns)\n",
    "\n",
    "df_mean_imputed.isnull().sum()"
   ]
  },
  {
   "cell_type": "markdown",
   "id": "7e220a86",
   "metadata": {},
   "source": [
    "## 🧮 6. Simple Imputation (Median)"
   ]
  },
  {
   "cell_type": "code",
   "execution_count": 6,
   "id": "3aef5452",
   "metadata": {},
   "outputs": [
    {
     "data": {
      "text/plain": [
       "MedInc        0\n",
       "HouseAge      0\n",
       "AveRooms      0\n",
       "AveBedrms     0\n",
       "Population    0\n",
       "AveOccup      0\n",
       "Latitude      0\n",
       "Longitude     0\n",
       "target        0\n",
       "dtype: int64"
      ]
     },
     "execution_count": 6,
     "metadata": {},
     "output_type": "execute_result"
    }
   ],
   "source": [
    "median_imputer = SimpleImputer(strategy='median')\n",
    "df_median_imputed = pd.DataFrame(median_imputer.fit_transform(df_missing), columns=df_missing.columns)\n",
    "\n",
    "df_median_imputed.isnull().sum()"
   ]
  },
  {
   "cell_type": "markdown",
   "id": "0bc1607f",
   "metadata": {},
   "source": [
    "## 🤖 7. Advanced Imputation — KNN Imputer"
   ]
  },
  {
   "cell_type": "code",
   "execution_count": 7,
   "id": "c43945ae",
   "metadata": {},
   "outputs": [
    {
     "data": {
      "text/plain": [
       "MedInc        0\n",
       "HouseAge      0\n",
       "AveRooms      0\n",
       "AveBedrms     0\n",
       "Population    0\n",
       "AveOccup      0\n",
       "Latitude      0\n",
       "Longitude     0\n",
       "target        0\n",
       "dtype: int64"
      ]
     },
     "execution_count": 7,
     "metadata": {},
     "output_type": "execute_result"
    }
   ],
   "source": [
    "from sklearn.impute import KNNImputer\n",
    "\n",
    "knn_imputer = KNNImputer(n_neighbors=5)\n",
    "df_knn_imputed = pd.DataFrame(knn_imputer.fit_transform(df_missing), columns=df_missing.columns)\n",
    "\n",
    "df_knn_imputed.isnull().sum()"
   ]
  },
  {
   "cell_type": "markdown",
   "id": "fa25b2c2",
   "metadata": {},
   "source": [
    "## 🧠 8. Advanced Imputation — Iterative Imputer (MICE)"
   ]
  },
  {
   "cell_type": "code",
   "execution_count": 8,
   "id": "74aeba09",
   "metadata": {},
   "outputs": [
    {
     "data": {
      "text/plain": [
       "MedInc        0\n",
       "HouseAge      0\n",
       "AveRooms      0\n",
       "AveBedrms     0\n",
       "Population    0\n",
       "AveOccup      0\n",
       "Latitude      0\n",
       "Longitude     0\n",
       "target        0\n",
       "dtype: int64"
      ]
     },
     "execution_count": 8,
     "metadata": {},
     "output_type": "execute_result"
    }
   ],
   "source": [
    "from sklearn.experimental import enable_iterative_imputer  # noqa\n",
    "from sklearn.impute import IterativeImputer\n",
    "\n",
    "mice_imputer = IterativeImputer(random_state=42)\n",
    "df_mice_imputed = pd.DataFrame(mice_imputer.fit_transform(df_missing), columns=df_missing.columns)\n",
    "\n",
    "df_mice_imputed.isnull().sum()"
   ]
  },
  {
   "cell_type": "markdown",
   "id": "1a1614e0",
   "metadata": {},
   "source": [
    "## 🧪 9. Compare Model Performance"
   ]
  },
  {
   "cell_type": "code",
   "execution_count": 10,
   "id": "be1e3dd0",
   "metadata": {},
   "outputs": [
    {
     "name": "stdout",
     "output_type": "stream",
     "text": [
      "No Missing Values: MSE = 0.5559\n",
      "Drop Rows: MSE = 0.4993\n",
      "Mean Imputation: MSE = 0.6692\n",
      "Median Imputation: MSE = 0.6852\n",
      "KNN Imputation: MSE = 0.5573\n",
      "MICE Imputation: MSE = 0.4644\n"
     ]
    }
   ],
   "source": [
    "from sklearn.model_selection import train_test_split\n",
    "from sklearn.linear_model import LinearRegression\n",
    "from sklearn.metrics import mean_squared_error\n",
    "\n",
    "def evaluate_model(df_imputed, name):\n",
    "    X = df_imputed.drop(columns=['target'])\n",
    "    y = df_imputed['target']\n",
    "    X_train, X_test, y_train, y_test = train_test_split(X, y, test_size=0.2, random_state=42)\n",
    "    model = LinearRegression()\n",
    "    model.fit(X_train, y_train)\n",
    "    y_pred = model.predict(X_test)\n",
    "    mse = mean_squared_error(y_test, y_pred)\n",
    "    print(f\"{name}: MSE = {mse:.4f}\")\n",
    "\n",
    "evaluate_model(df, \"No Missing Values\")\n",
    "evaluate_model(df_drop, \"Drop Rows\")\n",
    "evaluate_model(df_mean_imputed, \"Mean Imputation\")\n",
    "evaluate_model(df_median_imputed, \"Median Imputation\")\n",
    "evaluate_model(df_knn_imputed, \"KNN Imputation\")\n",
    "evaluate_model(df_mice_imputed, \"MICE Imputation\")"
   ]
  },
  {
   "cell_type": "markdown",
   "id": "d57d80be",
   "metadata": {},
   "source": [
    "---\n",
    "\n",
    "## 🏁 Summary\n",
    "- **Dropping rows**: simple but loses data.\n",
    "- **Mean/Median imputation**: fast, may bias variance.\n",
    "- **KNN Imputation**: uses nearest neighbors, good balance.\n",
    "- **MICE**: most robust, but computationally heavy.\n",
    "- Proper imputation improves model performance.\n",
    "\n",
    "✅ Try changing missingness % or imputation methods to see how MSE changes.\n"
   ]
  }
 ],
 "metadata": {
  "kernelspec": {
   "display_name": "Python 3 (ipykernel)",
   "language": "python",
   "name": "python3"
  },
  "language_info": {
   "codemirror_mode": {
    "name": "ipython",
    "version": 3
   },
   "file_extension": ".py",
   "mimetype": "text/x-python",
   "name": "python",
   "nbconvert_exporter": "python",
   "pygments_lexer": "ipython3",
   "version": "3.10.11"
  }
 },
 "nbformat": 4,
 "nbformat_minor": 5
}
